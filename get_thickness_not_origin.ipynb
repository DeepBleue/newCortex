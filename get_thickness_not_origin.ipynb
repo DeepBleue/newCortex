{
 "cells": [
  {
   "cell_type": "code",
   "execution_count": 3,
   "metadata": {},
   "outputs": [],
   "source": [
    "import numpy as np\n",
    "from tqdm.notebook import tqdm\n",
    "import trimesh\n",
    "from queue import PriorityQueue\n",
    "import matplotlib.pyplot as plt\n",
    "from make_vtk import write_lines_to_vtk,write_points_to_vtk\n",
    "from vtk_revise import read_vtk,write_vtk\n",
    "from faster_generate_cone import generate_vectors_in_cone\n",
    "# import cupy as cp"
   ]
  },
  {
   "cell_type": "code",
   "execution_count": 4,
   "metadata": {},
   "outputs": [],
   "source": [
    "white = read_vtk('./AllCortexData/GS_CortexODE/SUBJ_001_MR_BL/surf/lh.CortexODE.white.vtk')\n",
    "pial = read_vtk('./AllCortexData/GS_CortexODE/SUBJ_001_MR_BL/surf/lh.CortexODE.pial.vtk')\n",
    "\n",
    "white_vertices = white['vertices']\n",
    "white_faces = white['faces'][:,1:]\n",
    "\n",
    "pial_vertices = pial['vertices']\n",
    "pial_faces = pial['faces'][:,1:]"
   ]
  },
  {
   "cell_type": "code",
   "execution_count": 5,
   "metadata": {},
   "outputs": [
    {
     "data": {
      "application/vnd.jupyter.widget-view+json": {
       "model_id": "6fd0604dd4754a2a8f301f88b7f74c7b",
       "version_major": 2,
       "version_minor": 0
      },
      "text/plain": [
       "  0%|          | 0/142422 [00:00<?, ?it/s]"
      ]
     },
     "metadata": {},
     "output_type": "display_data"
    },
    {
     "data": {
      "application/vnd.jupyter.widget-view+json": {
       "model_id": "1f6fc5df6259436fa24acf29d89e18e4",
       "version_major": 2,
       "version_minor": 0
      },
      "text/plain": [
       "  0%|          | 0/142422 [00:00<?, ?it/s]"
      ]
     },
     "metadata": {},
     "output_type": "display_data"
    },
    {
     "ename": "KeyboardInterrupt",
     "evalue": "",
     "output_type": "error",
     "traceback": [
      "\u001b[1;31m---------------------------------------------------------------------------\u001b[0m",
      "\u001b[1;31mKeyboardInterrupt\u001b[0m                         Traceback (most recent call last)",
      "\u001b[1;32mc:\\Users\\pari0\\OneDrive - 고려대학교\\바탕 화면\\newCortex\\hello.ipynb Cell 3\u001b[0m line \u001b[0;36m4\n\u001b[0;32m     <a href='vscode-notebook-cell:/c%3A/Users/pari0/OneDrive%20-%20%EA%B3%A0%EB%A0%A4%EB%8C%80%ED%95%99%EA%B5%90/%EB%B0%94%ED%83%95%20%ED%99%94%EB%A9%B4/newCortex/hello.ipynb#W2sZmlsZQ%3D%3D?line=41'>42</a>\u001b[0m not_intersect \u001b[39m=\u001b[39m []\n\u001b[0;32m     <a href='vscode-notebook-cell:/c%3A/Users/pari0/OneDrive%20-%20%EA%B3%A0%EB%A0%A4%EB%8C%80%ED%95%99%EA%B5%90/%EB%B0%94%ED%83%95%20%ED%99%94%EB%A9%B4/newCortex/hello.ipynb#W2sZmlsZQ%3D%3D?line=43'>44</a>\u001b[0m \u001b[39mfor\u001b[39;00m idx \u001b[39min\u001b[39;00m tqdm(\u001b[39mrange\u001b[39m(\u001b[39m0\u001b[39m, \u001b[39mlen\u001b[39m(all_origins), \u001b[39m50\u001b[39m)):\n\u001b[1;32m---> <a href='vscode-notebook-cell:/c%3A/Users/pari0/OneDrive%20-%20%EA%B3%A0%EB%A0%A4%EB%8C%80%ED%95%99%EA%B5%90/%EB%B0%94%ED%83%95%20%ED%99%94%EB%A9%B4/newCortex/hello.ipynb#W2sZmlsZQ%3D%3D?line=44'>45</a>\u001b[0m     subset_locations \u001b[39m=\u001b[39m [filtered_locations[i] \u001b[39mfor\u001b[39;00m i, ray_idx \u001b[39min\u001b[39;00m \u001b[39menumerate\u001b[39m(filtered_index_ray) \u001b[39mif\u001b[39;00m idx \u001b[39m<\u001b[39m\u001b[39m=\u001b[39m ray_idx \u001b[39m<\u001b[39m idx \u001b[39m+\u001b[39m \u001b[39m50\u001b[39m]\n\u001b[0;32m     <a href='vscode-notebook-cell:/c%3A/Users/pari0/OneDrive%20-%20%EA%B3%A0%EB%A0%A4%EB%8C%80%ED%95%99%EA%B5%90/%EB%B0%94%ED%83%95%20%ED%99%94%EB%A9%B4/newCortex/hello.ipynb#W2sZmlsZQ%3D%3D?line=45'>46</a>\u001b[0m     subset_origin \u001b[39m=\u001b[39m all_origins[idx]\n\u001b[0;32m     <a href='vscode-notebook-cell:/c%3A/Users/pari0/OneDrive%20-%20%EA%B3%A0%EB%A0%A4%EB%8C%80%ED%95%99%EA%B5%90/%EB%B0%94%ED%83%95%20%ED%99%94%EB%A9%B4/newCortex/hello.ipynb#W2sZmlsZQ%3D%3D?line=47'>48</a>\u001b[0m     distances \u001b[39m=\u001b[39m [np\u001b[39m.\u001b[39mlinalg\u001b[39m.\u001b[39mnorm(loc \u001b[39m-\u001b[39m subset_origin) \u001b[39mfor\u001b[39;00m loc \u001b[39min\u001b[39;00m subset_locations]\n",
      "\u001b[1;32mc:\\Users\\pari0\\OneDrive - 고려대학교\\바탕 화면\\newCortex\\hello.ipynb Cell 3\u001b[0m line \u001b[0;36m4\n\u001b[0;32m     <a href='vscode-notebook-cell:/c%3A/Users/pari0/OneDrive%20-%20%EA%B3%A0%EB%A0%A4%EB%8C%80%ED%95%99%EA%B5%90/%EB%B0%94%ED%83%95%20%ED%99%94%EB%A9%B4/newCortex/hello.ipynb#W2sZmlsZQ%3D%3D?line=41'>42</a>\u001b[0m not_intersect \u001b[39m=\u001b[39m []\n\u001b[0;32m     <a href='vscode-notebook-cell:/c%3A/Users/pari0/OneDrive%20-%20%EA%B3%A0%EB%A0%A4%EB%8C%80%ED%95%99%EA%B5%90/%EB%B0%94%ED%83%95%20%ED%99%94%EB%A9%B4/newCortex/hello.ipynb#W2sZmlsZQ%3D%3D?line=43'>44</a>\u001b[0m \u001b[39mfor\u001b[39;00m idx \u001b[39min\u001b[39;00m tqdm(\u001b[39mrange\u001b[39m(\u001b[39m0\u001b[39m, \u001b[39mlen\u001b[39m(all_origins), \u001b[39m50\u001b[39m)):\n\u001b[1;32m---> <a href='vscode-notebook-cell:/c%3A/Users/pari0/OneDrive%20-%20%EA%B3%A0%EB%A0%A4%EB%8C%80%ED%95%99%EA%B5%90/%EB%B0%94%ED%83%95%20%ED%99%94%EB%A9%B4/newCortex/hello.ipynb#W2sZmlsZQ%3D%3D?line=44'>45</a>\u001b[0m     subset_locations \u001b[39m=\u001b[39m [filtered_locations[i] \u001b[39mfor\u001b[39;00m i, ray_idx \u001b[39min\u001b[39;00m \u001b[39menumerate\u001b[39m(filtered_index_ray) \u001b[39mif\u001b[39;00m idx \u001b[39m<\u001b[39m\u001b[39m=\u001b[39m ray_idx \u001b[39m<\u001b[39m idx \u001b[39m+\u001b[39m \u001b[39m50\u001b[39m]\n\u001b[0;32m     <a href='vscode-notebook-cell:/c%3A/Users/pari0/OneDrive%20-%20%EA%B3%A0%EB%A0%A4%EB%8C%80%ED%95%99%EA%B5%90/%EB%B0%94%ED%83%95%20%ED%99%94%EB%A9%B4/newCortex/hello.ipynb#W2sZmlsZQ%3D%3D?line=45'>46</a>\u001b[0m     subset_origin \u001b[39m=\u001b[39m all_origins[idx]\n\u001b[0;32m     <a href='vscode-notebook-cell:/c%3A/Users/pari0/OneDrive%20-%20%EA%B3%A0%EB%A0%A4%EB%8C%80%ED%95%99%EA%B5%90/%EB%B0%94%ED%83%95%20%ED%99%94%EB%A9%B4/newCortex/hello.ipynb#W2sZmlsZQ%3D%3D?line=47'>48</a>\u001b[0m     distances \u001b[39m=\u001b[39m [np\u001b[39m.\u001b[39mlinalg\u001b[39m.\u001b[39mnorm(loc \u001b[39m-\u001b[39m subset_origin) \u001b[39mfor\u001b[39;00m loc \u001b[39min\u001b[39;00m subset_locations]\n",
      "\u001b[1;31mKeyboardInterrupt\u001b[0m: "
     ]
    }
   ],
   "source": [
    "# Load your target mesh\n",
    "origin_mesh = trimesh.Trimesh(vertices=white_vertices, faces=white_faces)\n",
    "target_mesh = trimesh.Trimesh(vertices=pial_vertices, faces=pial_faces)\n",
    "\n",
    "# origin vertex normals\n",
    "origin_directions = origin_mesh.vertex_normals.copy()\n",
    "white2pial_dir = pial_vertices - white_vertices\n",
    "dir_sign = (np.sum(white2pial_dir*origin_directions,axis=1) < 0)\n",
    "origin_directions[dir_sign] *= -1\n",
    "    \n",
    "\n",
    "# Pre-compute all the cone directions for all origins\n",
    "all_origins = []\n",
    "all_directions = []\n",
    "\n",
    "for idx in tqdm(range(len(white_vertices))):\n",
    "    origin_pos = white_vertices[idx]\n",
    "    origin_cone_directions = generate_vectors_in_cone(origin_directions[idx], 15, 50)\n",
    "    all_origins.extend([origin_pos] * len(origin_cone_directions))\n",
    "    all_directions.extend(origin_cone_directions)\n",
    "    \n",
    "    \n",
    "# Find ray-mesh intersections for target and origin mesh\n",
    "locations_target, index_ray_target, index_tri_target = target_mesh.ray.intersects_location(ray_origins=all_origins, ray_directions=all_directions)\n",
    "locations_origin, index_ray_origin, _ = origin_mesh.ray.intersects_location(ray_origins=all_origins, ray_directions=all_directions)\n",
    "\n",
    "# Convert the intersected rays for origin mesh to a set for quick lookup\n",
    "intersected_origin_rays = set(index_ray_origin)\n",
    "\n",
    "# Filter out the locations where rays intersect with the origin mesh\n",
    "filtered_locations = []\n",
    "filtered_index_ray = []\n",
    "\n",
    "for loc, idx in zip(locations_target, index_ray_target):\n",
    "    if idx not in intersected_origin_rays:\n",
    "        filtered_locations.append(loc)\n",
    "        filtered_index_ray.append(idx)\n",
    "\n",
    "# Now, process the results\n",
    "pairs = []\n",
    "thicknesses = []\n",
    "not_intersect = []\n",
    "\n",
    "for idx in tqdm(range(0, len(all_origins), 50)):\n",
    "    subset_locations = [filtered_locations[i] for i, ray_idx in enumerate(filtered_index_ray) if idx <= ray_idx < idx + 50]\n",
    "    subset_origin = all_origins[idx]\n",
    "\n",
    "    distances = [np.linalg.norm(loc - subset_origin) for loc in subset_locations]\n",
    "\n",
    "    if distances:\n",
    "        min_distance_index = np.argmin(distances)\n",
    "        closest_location = subset_locations[min_distance_index]\n",
    "        closest_distance = distances[min_distance_index]\n",
    "\n",
    "        pairs.append((subset_origin, closest_location))\n",
    "        thicknesses.append(closest_distance)\n",
    "    else:\n",
    "        thicknesses.append(float('nan'))\n",
    "        not_intersect.append(subset_origin)\n"
   ]
  },
  {
   "cell_type": "code",
   "execution_count": null,
   "metadata": {},
   "outputs": [],
   "source": [
    "thicknesses = np.array(thicknesses)\n",
    "white['new_thickness'] = thicknesses\n",
    "write_vtk(white,'./cone_data/subject1_lh_white.vtk')\n",
    "write_lines_to_vtk(pairs, f\"./cone_data/pair_line.vtk\")\n",
    "write_points_to_vtk(not_intersect,f\"./cone_data/not_intersect_point.vtk\",color=(255,0,0))\n"
   ]
  }
 ],
 "metadata": {
  "kernelspec": {
   "display_name": "CortexODE",
   "language": "python",
   "name": "python3"
  },
  "language_info": {
   "codemirror_mode": {
    "name": "ipython",
    "version": 3
   },
   "file_extension": ".py",
   "mimetype": "text/x-python",
   "name": "python",
   "nbconvert_exporter": "python",
   "pygments_lexer": "ipython3",
   "version": "3.9.17"
  },
  "orig_nbformat": 4
 },
 "nbformat": 4,
 "nbformat_minor": 2
}
