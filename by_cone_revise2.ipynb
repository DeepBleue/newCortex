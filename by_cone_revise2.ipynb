{
 "cells": [
  {
   "cell_type": "code",
   "execution_count": 5,
   "metadata": {},
   "outputs": [],
   "source": [
    "import numpy as np\n",
    "from tqdm.notebook import tqdm\n",
    "import trimesh\n",
    "from queue import PriorityQueue\n",
    "import matplotlib.pyplot as plt\n",
    "from make_vtk import write_lines_to_vtk,write_points_to_vtk\n",
    "from vtk_revise import read_vtk,write_vtk\n",
    "from faster_generate_cone import generate_vectors_in_cone,plot_vectors_in_3d\n",
    "# import cupy as cp"
   ]
  },
  {
   "cell_type": "code",
   "execution_count": 6,
   "metadata": {},
   "outputs": [],
   "source": [
    "white = read_vtk('./AllCortexData/GS_CortexODE/SUBJ_001_MR_BL/surf/lh.CortexODE.white.vtk')\n",
    "pial = read_vtk('./AllCortexData/GS_CortexODE/SUBJ_001_MR_BL/surf/lh.CortexODE.pial.vtk')\n",
    "\n",
    "white_vertices = white['vertices']\n",
    "white_faces = white['faces'][:,1:]\n",
    "\n",
    "pial_vertices = pial['vertices']\n",
    "pial_faces = pial['faces'][:,1:]"
   ]
  },
  {
   "cell_type": "code",
   "execution_count": 7,
   "metadata": {},
   "outputs": [
    {
     "name": "stdout",
     "output_type": "stream",
     "text": [
      "(142422, 3)\n"
     ]
    }
   ],
   "source": [
    "# Load your target mesh\n",
    "origin_mesh = trimesh.Trimesh(vertices=white_vertices, faces=white_faces)\n",
    "target_mesh = trimesh.Trimesh(vertices=pial_vertices, faces=pial_faces)\n",
    "\n",
    "# origin vertex normals\n",
    "origin_directions = origin_mesh.vertex_normals.copy()\n",
    "white2pial_dir = pial_vertices - white_vertices\n",
    "dir_sign = (np.sum(white2pial_dir*origin_directions,axis=1) < 0)\n",
    "origin_directions[dir_sign] *= -1\n",
    "\n",
    "print(white_vertices.shape)"
   ]
  },
  {
   "cell_type": "code",
   "execution_count": 8,
   "metadata": {},
   "outputs": [
    {
     "data": {
      "application/vnd.jupyter.widget-view+json": {
       "model_id": "0992d47637c2423ebb0c019d0b41f78a",
       "version_major": 2,
       "version_minor": 0
      },
      "text/plain": [
       "  0%|          | 0/142422 [00:00<?, ?it/s]"
      ]
     },
     "metadata": {},
     "output_type": "display_data"
    }
   ],
   "source": [
    "# Pre-compute all the cone directions for all origins\n",
    "all_origins = []\n",
    "all_directions = []\n",
    "\n",
    "for idx in tqdm(range(len(white_vertices))):\n",
    "    origin_pos = white_vertices[idx]\n",
    "    origin_cone_directions = generate_vectors_in_cone(origin_directions[idx], 15, 50)\n",
    "    all_origins.extend([origin_pos] * len(origin_cone_directions))\n",
    "    all_directions.extend(origin_cone_directions)\n",
    "    \n",
    "\n",
    "\n",
    "# Find ray-mesh intersections for all origins and directions at once\n",
    "locations, index_ray, index_tri = target_mesh.ray.intersects_location(ray_origins=all_origins, ray_directions=all_directions)\n",
    "\n"
   ]
  },
  {
   "cell_type": "code",
   "execution_count": 18,
   "metadata": {},
   "outputs": [
    {
     "data": {
      "application/vnd.jupyter.widget-view+json": {
       "model_id": "4c8ed482b89e47bd86ce575ffc6acc07",
       "version_major": 2,
       "version_minor": 0
      },
      "text/plain": [
       "  0%|          | 0/26470984 [00:00<?, ?it/s]"
      ]
     },
     "metadata": {},
     "output_type": "display_data"
    }
   ],
   "source": [
    "# Now, process the results\n",
    "\n",
    "threshold = 7\n",
    "\n",
    "pairs = []\n",
    "thicknesses = []\n",
    "not_intersect = []\n",
    "too_long_pair = []\n",
    "\n",
    "index_groups = {}\n",
    "for i, ray_idx in tqdm(enumerate(index_ray), total=len(index_ray)):\n",
    "    if ray_idx not in index_groups:\n",
    "        index_groups[ray_idx] = []\n",
    "    index_groups[ray_idx].append(i)\n"
   ]
  },
  {
   "cell_type": "code",
   "execution_count": 19,
   "metadata": {},
   "outputs": [
    {
     "data": {
      "application/vnd.jupyter.widget-view+json": {
       "model_id": "553bbc8b3cd942979623c3776aaf9849",
       "version_major": 2,
       "version_minor": 0
      },
      "text/plain": [
       "  0%|          | 0/142422 [00:00<?, ?it/s]"
      ]
     },
     "metadata": {},
     "output_type": "display_data"
    }
   ],
   "source": [
    "\n",
    "# 'idx' is a factor to know which original vertex we are looking at. \n",
    "# This will change every 50 iterations (since there are 50 samples for each vertex).\n",
    "for idx in tqdm(range(0, len(all_origins), 50)):\n",
    "\n",
    "    # real_idx_1 = np.where((index_ray >= idx) & (index_ray < idx+50))\n",
    "    real_idx_2 = []\n",
    "    for i in range(idx, idx+50):\n",
    "        real_idx_2.extend(index_groups.get(i, []))\n",
    "        \n",
    "    subset_locations = locations[real_idx_2]\n",
    "\n",
    "    subset_origin = all_origins[idx]\n",
    "    \n",
    "    distances = [np.linalg.norm(loc - subset_origin) for loc in subset_locations]\n",
    "\n",
    "    if distances:\n",
    "        min_distance_index = np.argmin(distances)\n",
    "        closest_location = subset_locations[min_distance_index]\n",
    "        closest_distance = distances[min_distance_index]\n",
    "        \n",
    "        # pairs.append((subset_origin, closest_location))\n",
    "        # thicknesses.append(closest_distance)\n",
    "        \n",
    "        if closest_distance > threshold:\n",
    "            thicknesses.append(float('nan'))\n",
    "            too_long_pair.append((subset_origin, closest_location))\n",
    "            not_intersect.append(subset_origin)\n",
    "            \n",
    "        else : \n",
    "            pairs.append((subset_origin, closest_location))\n",
    "            thicknesses.append(closest_distance)\n",
    "    else:\n",
    "        thicknesses.append(float('nan'))\n",
    "        not_intersect.append(subset_origin)\n"
   ]
  },
  {
   "cell_type": "code",
   "execution_count": 23,
   "metadata": {},
   "outputs": [
    {
     "name": "stdout",
     "output_type": "stream",
     "text": [
      "6.999047361121566\n",
      "0.00024512719688008134\n"
     ]
    }
   ],
   "source": [
    "thicknesses = np.array(thicknesses)\n",
    "white['new_thickness'] = thicknesses\n",
    "\n",
    "print(max(thicknesses))\n",
    "print(min(thicknesses))\n",
    "\n",
    "# write_vtk(white,f'./cone_data/subject1_lh_white_with_thres{threshold}.vtk')\n",
    "# write_lines_to_vtk(pairs, f\"./cone_data/pair_line_with_thres{threshold}.vtk\")\n",
    "# write_points_to_vtk(not_intersect,f\"./cone_data/not_intersect_point_with_thres{threshold}.vtk\",color=(255,0,0))\n",
    "# write_lines_to_vtk(too_long_pair, f\"./cone_data/long_line_{threshold}.vtk\")\n"
   ]
  },
  {
   "cell_type": "code",
   "execution_count": 27,
   "metadata": {},
   "outputs": [
    {
     "name": "stdout",
     "output_type": "stream",
     "text": [
      "6.9990473611\n",
      "0.0\n"
     ]
    }
   ],
   "source": [
    "test = read_vtk('./cone_data/subject1_lh_white_with_thres7.vtk')\n",
    "\n",
    "# print(a = test['new_thickness'])\n",
    "\n",
    "a = test['new_thickness']\n",
    "print(max(a))\n",
    "print(min(a))"
   ]
  }
 ],
 "metadata": {
  "kernelspec": {
   "display_name": "CortexODE",
   "language": "python",
   "name": "python3"
  },
  "language_info": {
   "codemirror_mode": {
    "name": "ipython",
    "version": 3
   },
   "file_extension": ".py",
   "mimetype": "text/x-python",
   "name": "python",
   "nbconvert_exporter": "python",
   "pygments_lexer": "ipython3",
   "version": "3.9.17"
  },
  "orig_nbformat": 4
 },
 "nbformat": 4,
 "nbformat_minor": 2
}
