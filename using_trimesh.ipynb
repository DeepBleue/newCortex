{
 "cells": [
  {
   "cell_type": "code",
   "execution_count": 4,
   "metadata": {},
   "outputs": [],
   "source": [
    "from vtk_revise import read_vtk,write_vtk,to_polydata,write_vertices,remove_field\n",
    "import numpy as np\n",
    "from tqdm.notebook import tqdm\n",
    "import trimesh\n",
    "from queue import PriorityQueue"
   ]
  },
  {
   "cell_type": "code",
   "execution_count": 5,
   "metadata": {},
   "outputs": [],
   "source": [
    "lh_white_path = \"./surf/lh.CortexODE.white.vtk\"\n",
    "lh_pial_path = \"./surf/lh.CortexODE.pial.vtk\"\n",
    "rh_white_path = \"./surf/rh.CortexODE.white.vtk\"\n",
    "rh_pial_path = \"./surf/rh.CortexODE.pial.vtk\""
   ]
  },
  {
   "cell_type": "code",
   "execution_count": 7,
   "metadata": {},
   "outputs": [],
   "source": [
    "lh_white_path = './AllCortexData/GS_CortexODE/SUBJ_001_MR_BL/surf/lh.CortexODE.white.vtk'\n",
    "lh_white = read_vtk(lh_white_path)"
   ]
  },
  {
   "cell_type": "code",
   "execution_count": 8,
   "metadata": {},
   "outputs": [
    {
     "name": "stdout",
     "output_type": "stream",
     "text": [
      "7.189536822\n",
      "0.034291269928\n"
     ]
    }
   ],
   "source": [
    "thick = lh_white['thickness']\n",
    "print(max(thick))\n",
    "print(min(thick))"
   ]
  },
  {
   "cell_type": "code",
   "execution_count": 6,
   "metadata": {},
   "outputs": [
    {
     "ename": "FileNotFoundError",
     "evalue": "File (c:\\Users\\pari0\\OneDrive - 고려대학교\\바탕 화면\\newCortex\\surf\\lh.CortexODE.white.vtk) not found",
     "output_type": "error",
     "traceback": [
      "\u001b[1;31m---------------------------------------------------------------------------\u001b[0m",
      "\u001b[1;31mFileNotFoundError\u001b[0m                         Traceback (most recent call last)",
      "Cell \u001b[1;32mIn[6], line 1\u001b[0m\n\u001b[1;32m----> 1\u001b[0m lh_white \u001b[39m=\u001b[39m read_vtk(lh_white_path)\n\u001b[0;32m      2\u001b[0m lh_pial \u001b[39m=\u001b[39m read_vtk(lh_pial_path)\n\u001b[0;32m      4\u001b[0m rh_white \u001b[39m=\u001b[39m read_vtk(rh_white_path)\n",
      "File \u001b[1;32mc:\\Users\\pari0\\OneDrive - 고려대학교\\바탕 화면\\newCortex\\vtk_revise.py:29\u001b[0m, in \u001b[0;36mread_vtk\u001b[1;34m(in_file)\u001b[0m\n\u001b[0;32m     21\u001b[0m \u001b[39mdef\u001b[39;00m \u001b[39mread_vtk\u001b[39m(in_file):\n\u001b[0;32m     22\u001b[0m \u001b[39m    \u001b[39m\u001b[39m\"\"\"\u001b[39;00m\n\u001b[0;32m     23\u001b[0m \u001b[39m    Read .vtk POLYDATA file\u001b[39;00m\n\u001b[0;32m     24\u001b[0m \u001b[39m    \u001b[39;00m\n\u001b[0;32m     25\u001b[0m \u001b[39m    in_file: string,  the filename\u001b[39;00m\n\u001b[0;32m     26\u001b[0m \u001b[39m    Out: dictionary, 'vertices', 'faces', 'curv', 'sulc', ...\u001b[39;00m\n\u001b[0;32m     27\u001b[0m \u001b[39m    \"\"\"\u001b[39;00m\n\u001b[1;32m---> 29\u001b[0m     polydata \u001b[39m=\u001b[39m pyvista\u001b[39m.\u001b[39;49mread(in_file)\n\u001b[0;32m     31\u001b[0m     n_faces \u001b[39m=\u001b[39m polydata\u001b[39m.\u001b[39mn_faces\n\u001b[0;32m     32\u001b[0m     vertices \u001b[39m=\u001b[39m np\u001b[39m.\u001b[39marray(polydata\u001b[39m.\u001b[39mpoints)  \u001b[39m# get vertices coordinate\u001b[39;00m\n",
      "File \u001b[1;32mc:\\Users\\pari0\\anaconda3\\envs\\CortexODE\\lib\\site-packages\\pyvista\\core\\utilities\\fileio.py:223\u001b[0m, in \u001b[0;36mread\u001b[1;34m(filename, attrs, force_ext, file_format, progress_bar)\u001b[0m\n\u001b[0;32m    221\u001b[0m filename \u001b[39m=\u001b[39m os\u001b[39m.\u001b[39mpath\u001b[39m.\u001b[39mabspath(os\u001b[39m.\u001b[39mpath\u001b[39m.\u001b[39mexpanduser(\u001b[39mstr\u001b[39m(filename)))\n\u001b[0;32m    222\u001b[0m \u001b[39mif\u001b[39;00m \u001b[39mnot\u001b[39;00m os\u001b[39m.\u001b[39mpath\u001b[39m.\u001b[39misfile(filename):\n\u001b[1;32m--> 223\u001b[0m     \u001b[39mraise\u001b[39;00m \u001b[39mFileNotFoundError\u001b[39;00m(\u001b[39mf\u001b[39m\u001b[39m'\u001b[39m\u001b[39mFile (\u001b[39m\u001b[39m{\u001b[39;00mfilename\u001b[39m}\u001b[39;00m\u001b[39m) not found\u001b[39m\u001b[39m'\u001b[39m)\n\u001b[0;32m    225\u001b[0m \u001b[39m# Read file using meshio.read if file_format is present\u001b[39;00m\n\u001b[0;32m    226\u001b[0m \u001b[39mif\u001b[39;00m file_format:\n",
      "\u001b[1;31mFileNotFoundError\u001b[0m: File (c:\\Users\\pari0\\OneDrive - 고려대학교\\바탕 화면\\newCortex\\surf\\lh.CortexODE.white.vtk) not found"
     ]
    }
   ],
   "source": [
    "lh_white = read_vtk(lh_white_path)\n",
    "lh_pial = read_vtk(lh_pial_path)\n",
    "\n",
    "rh_white = read_vtk(rh_white_path)\n",
    "rh_pial = read_vtk(rh_pial_path)"
   ]
  },
  {
   "cell_type": "code",
   "execution_count": 12,
   "metadata": {},
   "outputs": [],
   "source": [
    "lh_white_vertices = lh_white['vertices']\n",
    "lh_white_faces = lh_white['faces'][:,1:]\n",
    "\n",
    "rh_white_vertices = rh_white['vertices']\n",
    "rh_white_faces = rh_white['faces'][:,1:]\n",
    "\n",
    "lh_pial_vertices = lh_pial['vertices']\n",
    "lh_pial_faces = lh_pial['faces'][:,1:]\n",
    "\n",
    "rh_pial_vertices = rh_pial['vertices']\n",
    "rh_pial_faces = rh_pial['faces'][:,1:]\n"
   ]
  },
  {
   "cell_type": "code",
   "execution_count": 13,
   "metadata": {},
   "outputs": [
    {
     "name": "stdout",
     "output_type": "stream",
     "text": [
      "[[ 0.20408021 -0.1778264  -0.96266767]\n",
      " [-0.43874678 -0.14048142 -0.88756196]\n",
      " [-0.06856184 -0.28265054 -0.95676954]\n",
      " ...\n",
      " [ 0.1943248   0.37795157  0.9052019 ]\n",
      " [-0.01420271  0.62883832  0.77740636]\n",
      " [ 0.04641489  0.54770614  0.83538233]]\n"
     ]
    }
   ],
   "source": [
    "lh_white_mesh = trimesh.Trimesh(vertices=lh_white_vertices, faces=lh_white_faces)\n",
    "rh_white_mesh = trimesh.Trimesh(vertices=rh_white_vertices, faces=rh_white_faces)\n",
    "# Get the vertex normals\n",
    "lh_white_vertex_normals = lh_white_mesh.vertex_normals\n",
    "rh_white_vertex_normals = rh_white_mesh.vertex_normals\n",
    "\n",
    "\n",
    "print(lh_white_vertex_normals)"
   ]
  },
  {
   "cell_type": "code",
   "execution_count": 14,
   "metadata": {},
   "outputs": [],
   "source": [
    "lh_pial_mesh = trimesh.Trimesh(vertices=lh_pial_vertices, faces=lh_pial_faces)\n",
    "rh_pial_mesh = trimesh.Trimesh(vertices=rh_pial_vertices, faces=rh_pial_faces)\n",
    "\n",
    "lh_pial_intersector = trimesh.ray.ray_triangle.RayMeshIntersector(lh_pial_mesh)\n",
    "rh_pial_intersector = trimesh.ray.ray_triangle.RayMeshIntersector(rh_pial_mesh)\n",
    "\n"
   ]
  },
  {
   "cell_type": "markdown",
   "metadata": {},
   "source": [
    "### one side of brain "
   ]
  },
  {
   "cell_type": "code",
   "execution_count": 7,
   "metadata": {},
   "outputs": [
    {
     "data": {
      "application/vnd.jupyter.widget-view+json": {
       "model_id": "52912d788e1048f293e971fedecceeeb",
       "version_major": 2,
       "version_minor": 0
      },
      "text/plain": [
       "0it [00:00, ?it/s]"
      ]
     },
     "metadata": {},
     "output_type": "display_data"
    }
   ],
   "source": [
    "def get_distance_white2pial(subject_name,white_vertices,white_vtx_normal,pial_mesh_intersector):\n",
    "    '''\n",
    "    subject_name => (String) : name of this subject. ex ) 'patient_1_lh_brain'\n",
    "    white_vertices => (numpy array) : white matter vertex position\n",
    "    white_vtx_normal => (numpy array) : white matter vertext normals\n",
    "    pial_mesh_intersector => (intersector by trimesh) : pial surface intersector \n",
    "    '''\n",
    "    \n",
    "    not_intersect_num = 0 \n",
    "    \n",
    "    result = []\n",
    "    \n",
    "    for i,(ray_origins,ray_directions) in tqdm(enumerate(zip(white_vertices,white_vtx_normal)),total=len(white_vertices)) : \n",
    "        \n",
    "        ray_origins = ray_origins.reshape(1,3)\n",
    "        ray_directions = ray_directions.reshape(1,3)\n",
    "        # Intersect rays with mesh\n",
    "        locations = pial_mesh_intersector.intersects_location(ray_origins, ray_directions)\n",
    "        \n",
    "        intersect_positions = locations[0]\n",
    "        num_faces_intersect = len(locations[1])\n",
    "        intersect_faces_idx = locations[2]\n",
    "        pq = PriorityQueue()\n",
    "        \n",
    "        if num_faces_intersect == 0 : \n",
    "            result.append({'id' : subject_name,\n",
    "                    'distance' : None,\n",
    "                    'origin_position' : ray_origins,\n",
    "                    'origin_index' : i,\n",
    "                    'ray_direction' : ray_directions,\n",
    "                    'intersect_position' : None,\n",
    "                    'intersect_face_index' : None})\n",
    "            not_intersect_num += 1\n",
    "            \n",
    "        else : \n",
    "            for j,intersect_pos in enumerate(intersect_positions) : \n",
    "                \n",
    "                dist = np.sqrt(np.sum((ray_origins - intersect_pos)**2))\n",
    "                pq.put((dist,\n",
    "                        {'id' : subject_name,\n",
    "                        'distance' : np.round(dist,4),\n",
    "                        'origin_position' : ray_origins,\n",
    "                        'origin_index' : i,\n",
    "                        'ray_direction' : ray_directions,\n",
    "                        'intersect_position' : intersect_pos,\n",
    "                        'intersect_face_index' : intersect_faces_idx[j]}\n",
    "                        ))\n",
    "            small_one = pq.get()\n",
    "            result.append(small_one[1])\n",
    "    print(f\"Vertex num : {len(white_vertices)}\")\n",
    "    print(f\"Not intersect num : {not_intersect_num}\")\n",
    "    return result \n",
    "\n",
    "\n",
    "subject_name = 'lh_brain'\n",
    "result = get_distance_white2pial(subject_name,\n",
    "                                 lh_white_vertices,\n",
    "                                 lh_white_vertex_normals,\n",
    "                                 lh_pial_intersector)\n",
    "\n",
    "print(result)\n"
   ]
  },
  {
   "cell_type": "markdown",
   "metadata": {},
   "source": [
    "### total brain"
   ]
  },
  {
   "cell_type": "code",
   "execution_count": 15,
   "metadata": {},
   "outputs": [],
   "source": [
    "combined_white_vertices =  np.concatenate((lh_white_vertices, rh_white_vertices), axis=0)\n",
    "combined_white_vertices_norm =  np.concatenate((lh_white_vertex_normals, rh_white_vertex_normals), axis=0)\n",
    "\n",
    "combined_pial_mesh = trimesh.util.concatenate(lh_pial_mesh, rh_pial_mesh)\n",
    "combined_pial_intersector = trimesh.ray.ray_triangle.RayMeshIntersector(combined_pial_mesh)"
   ]
  },
  {
   "cell_type": "code",
   "execution_count": null,
   "metadata": {},
   "outputs": [],
   "source": [
    "def get_distance_white2pial(subject_name,white_vertices,white_vtx_normal,pial_mesh_intersector):\n",
    "    '''\n",
    "    subject_name => (String) : name of this subject. ex ) 'patient_1_lh_brain'\n",
    "    white_vertices => (numpy array) : white matter vertex position\n",
    "    white_vtx_normal => (numpy array) : white matter vertext normals\n",
    "    pial_mesh_intersector => (intersector by trimesh) : pial surface intersector \n",
    "    '''\n",
    "    \n",
    "    not_intersect_num = 0 \n",
    "    \n",
    "    result = []\n",
    "    \n",
    "    for i,(ray_origins,ray_directions) in tqdm(enumerate(zip(white_vertices,white_vtx_normal)),total=len(white_vertices)) : \n",
    "        \n",
    "        ray_origins = ray_origins.reshape(1,3)\n",
    "        ray_directions = ray_directions.reshape(1,3)\n",
    "        # Intersect rays with mesh\n",
    "        locations = pial_mesh_intersector.intersects_location(ray_origins, ray_directions)\n",
    "        \n",
    "        intersect_positions = locations[0]\n",
    "        num_faces_intersect = len(locations[1])\n",
    "        intersect_faces_idx = locations[2]\n",
    "        pq = PriorityQueue()\n",
    "        \n",
    "        if num_faces_intersect == 0 : \n",
    "            result.append({'id' : subject_name,\n",
    "                    'distance' : None,\n",
    "                    'origin_position' : ray_origins,\n",
    "                    'origin_index' : i,\n",
    "                    'ray_direction' : ray_directions,\n",
    "                    'intersect_position' : None,\n",
    "                    'intersect_face_index' : None})\n",
    "            not_intersect_num += 1\n",
    "            \n",
    "        else : \n",
    "            for j,intersect_pos in enumerate(intersect_positions) : \n",
    "                \n",
    "                dist = np.sqrt(np.sum((ray_origins - intersect_pos)**2))\n",
    "                pq.put((dist,\n",
    "                        {'id' : subject_name,\n",
    "                        'distance' : np.round(dist,4),\n",
    "                        'origin_position' : ray_origins,\n",
    "                        'origin_index' : i,\n",
    "                        'ray_direction' : ray_directions,\n",
    "                        'intersect_position' : intersect_pos,\n",
    "                        'intersect_face_index' : intersect_faces_idx[j]}\n",
    "                        ))\n",
    "            small_one = pq.get()\n",
    "            result.append(small_one[1])\n",
    "    print(f\"Vertex num : {len(white_vertices)}\")\n",
    "    print(f\"Not intersect num : {not_intersect_num}\")\n",
    "    return result \n",
    "\n",
    "\n",
    "subject_name = 'all_brain'\n",
    "result = get_distance_white2pial(subject_name,\n",
    "                                 combined_white_vertices,\n",
    "                                 combined_white_vertices_norm,\n",
    "                                 combined_pial_intersector)\n",
    "\n",
    "print(result)\n"
   ]
  },
  {
   "cell_type": "code",
   "execution_count": 2,
   "metadata": {},
   "outputs": [
    {
     "name": "stdout",
     "output_type": "stream",
     "text": [
      "142422\n"
     ]
    }
   ],
   "source": [
    "# To load the list back:\n",
    "import pickle\n",
    "with open('lh_brain.pkl', 'rb') as f:\n",
    "    loaded_list = pickle.load(f)\n",
    "\n",
    "print(len(loaded_list))"
   ]
  },
  {
   "cell_type": "code",
   "execution_count": 17,
   "metadata": {},
   "outputs": [
    {
     "name": "stdout",
     "output_type": "stream",
     "text": [
      "[[ 0.20408021 -0.1778264  -0.96266767]\n",
      " [-0.43874678 -0.14048142 -0.88756196]\n",
      " [-0.06856184 -0.28265054 -0.95676954]\n",
      " ...\n",
      " [ 0.1943248   0.37795157  0.9052019 ]\n",
      " [-0.01420271  0.62883832  0.77740636]\n",
      " [ 0.04641489  0.54770614  0.83538233]]\n"
     ]
    }
   ],
   "source": [
    "import trimesh\n",
    "import numpy as np\n",
    "\n",
    "# Sample vertices and faces\n",
    "vertices = np.array([\n",
    "    [0, 0, 0],\n",
    "    [1, 0, 0],\n",
    "    [0, 1, 0],\n",
    "    [0, 0, 1]\n",
    "])\n",
    "\n",
    "faces = np.array([\n",
    "    [0, 1, 2],\n",
    "    [0, 1, 3],\n",
    "    [0, 2, 3],\n",
    "    [1, 2, 3]\n",
    "])\n",
    "\n",
    "# Create a trimesh object\n",
    "mesh = trimesh.Trimesh(vertices=lh_white_vertices, faces=lh_white_faces)\n",
    "\n",
    "# Calculate vertex normals\n",
    "vertex_normals = mesh.vertex_normals\n",
    "\n",
    "print(vertex_normals)\n"
   ]
  },
  {
   "cell_type": "code",
   "execution_count": 16,
   "metadata": {},
   "outputs": [
    {
     "name": "stdout",
     "output_type": "stream",
     "text": [
      "[[ 0.18497026 -0.19298697 -0.96360886]\n",
      " [-0.41961876 -0.14318219 -0.89633641]\n",
      " [-0.09402466 -0.25659499 -0.9619347 ]\n",
      " ...\n",
      " [ 0.18993384  0.379502    0.90548516]\n",
      " [-0.02300177  0.63046376  0.7758778 ]\n",
      " [ 0.04777164  0.54589086  0.8364933 ]]\n"
     ]
    }
   ],
   "source": [
    "import numpy as np\n",
    "\n",
    "def compute_vertex_normals(vertices, faces):\n",
    "    vertex_normals = np.zeros_like(vertices, dtype=np.float64)  \n",
    "\n",
    "    for face in faces:\n",
    "        v1, v2, v3 = vertices[face].astype(np.float64)  \n",
    "        e1 = v2 - v1\n",
    "        e2 = v3 - v1\n",
    "        face_normal = np.cross(e1, e2)\n",
    "        face_normal /= np.linalg.norm(face_normal)\n",
    "        \n",
    "        \n",
    "        for vertex in face:\n",
    "            vertex_normals[vertex] += face_normal\n",
    "\n",
    "    \n",
    "    for i in range(len(vertex_normals)):\n",
    "        vertex_normals[i] /= np.linalg.norm(vertex_normals[i])\n",
    "\n",
    "    return vertex_normals\n",
    "\n",
    "vertices = np.array([\n",
    "    [0, 0, 0],\n",
    "    [1, 0, 0],\n",
    "    [0, 1, 0],\n",
    "    [0, 0, 1]\n",
    "])\n",
    "\n",
    "faces = np.array([\n",
    "    [0, 1, 2],\n",
    "    [0, 1, 3],\n",
    "    [0, 2, 3],\n",
    "    [1, 2, 3]\n",
    "])\n",
    "\n",
    "print(compute_vertex_normals(lh_white_vertices, lh_white_faces))\n"
   ]
  },
  {
   "cell_type": "code",
   "execution_count": 26,
   "metadata": {},
   "outputs": [
    {
     "name": "stdout",
     "output_type": "stream",
     "text": [
      "{'vertices': array([[-33.0875 ,   5.35956, -30.0661 ],\n",
      "       [-33.6076 ,   5.37578, -29.9285 ],\n",
      "       [-33.2168 ,   4.80791, -29.9696 ],\n",
      "       ...,\n",
      "       [ -8.10695, -26.3459 ,  80.0389 ],\n",
      "       [ -9.7135 , -25.4772 ,  79.6402 ],\n",
      "       [ -8.80204, -25.6295 ,  79.7029 ]], dtype=float32), 'faces': array([[     3,      2,      1,      0],\n",
      "       [     3,      0,      3,      2],\n",
      "       [     3,      6,      5,      4],\n",
      "       ...,\n",
      "       [     3, 142334, 142420, 142336],\n",
      "       [     3, 142336, 142420, 142421],\n",
      "       [     3, 142336, 142421, 142331]], dtype=int64), 'thickness': array([3.32757632, 3.66757862, 3.19666151, ..., 3.7112704 , 3.66817025,\n",
      "       3.49256995]), 'aparc': array([ 9.,  9.,  9., ..., 24., 24., 24.]), 'new_thickness': array(['3.18507367\\r', '4.61491413\\r', '3.35244491\\r', ...,\n",
      "       '3.46846138\\r', '3.63713319\\r', '3.51621519\\r'], dtype='<U13')}\n",
      "\n",
      "['3.18507367\\r' '4.61491413\\r' '3.35244491\\r' ... '3.46846138\\r'\n",
      " '3.63713319\\r' '3.51621519\\r']\n"
     ]
    }
   ],
   "source": [
    "print(lh_white)\n",
    "print('')\n",
    "print(lh_white['new_thickness'])"
   ]
  },
  {
   "cell_type": "code",
   "execution_count": 21,
   "metadata": {},
   "outputs": [
    {
     "name": "stdout",
     "output_type": "stream",
     "text": [
      "10\n",
      "90\n"
     ]
    }
   ],
   "source": [
    "hello = []\n",
    "\n",
    "for i in range(100):\n",
    "    hello.append(i)\n",
    "    \n",
    "    \n",
    "a = hello[:10]\n",
    "b = hello[10:]\n",
    "\n",
    "print(len(a))\n",
    "print(len(b))"
   ]
  },
  {
   "cell_type": "code",
   "execution_count": 22,
   "metadata": {},
   "outputs": [],
   "source": [
    "write_vtk(lh_white,'hello.vtk')"
   ]
  },
  {
   "cell_type": "code",
   "execution_count": 4,
   "metadata": {},
   "outputs": [
    {
     "name": "stdout",
     "output_type": "stream",
     "text": [
      "3.0\n"
     ]
    }
   ],
   "source": [
    "import numpy as np\n",
    "\n",
    "\n",
    "a = np.zeros(3)\n",
    "b = np.array([1,2,2])\n",
    "\n",
    "c = np.sqrt(np.sum((a-b)**2))\n",
    "\n",
    "print(c)"
   ]
  },
  {
   "cell_type": "code",
   "execution_count": 31,
   "metadata": {},
   "outputs": [
    {
     "name": "stdout",
     "output_type": "stream",
     "text": [
      "{'vertices': array([[-33.0875 ,   5.35956, -30.0661 ],\n",
      "       [-33.6076 ,   5.37578, -29.9285 ],\n",
      "       [-33.2168 ,   4.80791, -29.9696 ],\n",
      "       ...,\n",
      "       [ -8.10695, -26.3459 ,  80.0389 ],\n",
      "       [ -9.7135 , -25.4772 ,  79.6402 ],\n",
      "       [ -8.80204, -25.6295 ,  79.7029 ]], dtype=float32), 'faces': array([[     3,      2,      1,      0],\n",
      "       [     3,      0,      3,      2],\n",
      "       [     3,      6,      5,      4],\n",
      "       ...,\n",
      "       [     3, 142334, 142420, 142336],\n",
      "       [     3, 142336, 142420, 142421],\n",
      "       [     3, 142336, 142421, 142331]], dtype=int64), 'thickness': array([3.32757632, 3.66757862, 3.19666151, ..., 3.7112704 , 3.66817025,\n",
      "       3.49256995]), 'aparc': array([ 9.,  9.,  9., ..., 24., 24., 24.]), 'new_thickness': array([3.18507367, 4.61491413, 3.35244491, ..., 3.46846138, 3.63713319,\n",
      "       3.51621519])}\n"
     ]
    }
   ],
   "source": [
    "from vtk import read_vtk,write_vtk,to_polydata,write_vertices,remove_field\n",
    "\n",
    "lh_white = read_vtk('lh_white_not_combined.vtk')\n",
    "\n",
    "print(lh_white)"
   ]
  },
  {
   "cell_type": "code",
   "execution_count": 28,
   "metadata": {},
   "outputs": [],
   "source": [
    "def to_float(value):\n",
    "    try:\n",
    "        return float(value.replace('\\r', ''))\n",
    "    except ValueError:\n",
    "        return np.nan"
   ]
  },
  {
   "cell_type": "code",
   "execution_count": null,
   "metadata": {},
   "outputs": [],
   "source": [
    "import numpy as np\n",
    "\n",
    "from vtk import read_vtk,write_vtk,to_polydata,write_vertices,remove_field\n",
    "rh_white = read_vtk('rh_white_not_combined.vtk')\n",
    "\n",
    "print(rh_white)\n",
    "thickness = rh_white['new_thickness']\n",
    "rh_white['new_thickness'] = np.array([to_float(x) for x in thickness])\n",
    "\n",
    "\n",
    "write_vtk(rh_white,'rh_white_not_combined_revise.vtk')\n",
    "\n",
    "print(rh_white)\n",
    "\n"
   ]
  },
  {
   "cell_type": "code",
   "execution_count": 35,
   "metadata": {},
   "outputs": [
    {
     "name": "stdout",
     "output_type": "stream",
     "text": [
      "{'vertices': array([[ 40.02   ,  -1.60078, -30.0925 ],\n",
      "       [ 39.6111 ,  -1.93742, -29.7247 ],\n",
      "       [ 40.1154 ,  -2.23625, -29.8329 ],\n",
      "       ...,\n",
      "       [  8.01175, -23.9332 ,  81.045  ],\n",
      "       [  8.51985, -24.1705 ,  80.8635 ],\n",
      "       [  8.07586, -23.4677 ,  80.8645 ]], dtype=float32), 'faces': array([[     3,      2,      1,      0],\n",
      "       [     3,      0,      3,      2],\n",
      "       [     3,      6,      5,      4],\n",
      "       ...,\n",
      "       [     3, 140420, 140428, 140413],\n",
      "       [     3, 140429, 140423, 140418],\n",
      "       [     3, 140423, 140429, 140421]], dtype=int64), 'thickness': array([3.9675797 , 4.42450906, 4.27335525, ..., 2.78195273, 2.99477607,\n",
      "       2.69913931]), 'aparc': array([ 9.,  9.,  9., ..., 24., 24., 24.]), 'new_thickness': array([3.58736357, 4.16528196, 4.15888569, ..., 2.74520761, 2.96018984,\n",
      "       2.61897407])}\n"
     ]
    }
   ],
   "source": [
    "rh_white = read_vtk('rh_white_not_combined.vtk')\n",
    "\n",
    "print(rh_white)"
   ]
  },
  {
   "cell_type": "code",
   "execution_count": null,
   "metadata": {},
   "outputs": [],
   "source": []
  },
  {
   "cell_type": "code",
   "execution_count": 28,
   "metadata": {},
   "outputs": [
    {
     "ename": "AttributeError",
     "evalue": "module 'vtk' has no attribute 'vtkPoints'",
     "output_type": "error",
     "traceback": [
      "\u001b[1;31m---------------------------------------------------------------------------\u001b[0m",
      "\u001b[1;31mAttributeError\u001b[0m                            Traceback (most recent call last)",
      "Cell \u001b[1;32mIn[28], line 8\u001b[0m\n\u001b[0;32m      5\u001b[0m p2 \u001b[39m=\u001b[39m [\u001b[39m4\u001b[39m, \u001b[39m5\u001b[39m, \u001b[39m6\u001b[39m]\n\u001b[0;32m      7\u001b[0m \u001b[39m# Create a vtkPoints object and store the points in it\u001b[39;00m\n\u001b[1;32m----> 8\u001b[0m points \u001b[39m=\u001b[39m vtk\u001b[39m.\u001b[39;49mvtkPoints()\n\u001b[0;32m      9\u001b[0m points\u001b[39m.\u001b[39mInsertNextPoint(p1)\n\u001b[0;32m     10\u001b[0m points\u001b[39m.\u001b[39mInsertNextPoint(p2)\n",
      "\u001b[1;31mAttributeError\u001b[0m: module 'vtk' has no attribute 'vtkPoints'"
     ]
    }
   ],
   "source": [
    "import vtk\n",
    "\n",
    "# Create two points\n",
    "p1 = [1, 2, 3]\n",
    "p2 = [4, 5, 6]\n",
    "\n",
    "# Create a vtkPoints object and store the points in it\n",
    "points = vtk.vtkPoints()\n",
    "points.InsertNextPoint(p1)\n",
    "points.InsertNextPoint(p2)\n",
    "\n",
    "# Create a line between the two points\n",
    "line = vtk.vtkLine()\n",
    "line.GetPointIds().SetId(0, 0)  # the second 0 is the index of the first point in points\n",
    "line.GetPointIds().SetId(1, 1)  # the second 1 is the index of the second point in points\n",
    "\n",
    "# Create a cell array to store the line and insert the line into it\n",
    "lines = vtk.vtkCellArray()\n",
    "lines.InsertNextCell(line)\n",
    "\n",
    "# Create a polydata to store everything\n",
    "linesPolyData = vtk.vtkPolyData()\n",
    "linesPolyData.SetPoints(points)\n",
    "linesPolyData.SetLines(lines)\n",
    "\n",
    "# Write the polydata to a file\n",
    "writer = vtk.vtkPolyDataWriter()\n",
    "writer.SetFileName(\"line.vtk\")\n",
    "writer.SetInputData(linesPolyData)\n",
    "writer.Write()\n"
   ]
  },
  {
   "cell_type": "code",
   "execution_count": 5,
   "metadata": {},
   "outputs": [],
   "source": [
    "import pickle\n",
    "import numpy as np\n",
    "\n",
    "# Open the file in binary read mode\n",
    "with open('lh_brain.pkl', 'rb') as file:\n",
    "    # Load the object from the file\n",
    "    data = pickle.load(file)\n",
    "\n",
    "# Now, 'data' contains the deserialized Python object\n",
    "# print(data)\n"
   ]
  },
  {
   "cell_type": "code",
   "execution_count": 6,
   "metadata": {},
   "outputs": [
    {
     "name": "stdout",
     "output_type": "stream",
     "text": [
      "{'id': 'lh_brain', 'distance': 3.1851, 'origin_position': array([[-33.0875 ,   5.35956, -30.0661 ]], dtype=float32), 'origin_index': 0, 'ray_direction': array([[ 0.20408021, -0.1778264 , -0.96266767]]), 'intersect_position': array([-32.43749102,   4.79316982, -33.13226661]), 'intersect_face_index': 1}\n",
      "[-33.08750153   5.35956001 -30.06609917] [-32.43749102   4.79316982 -33.13226661]\n"
     ]
    }
   ],
   "source": [
    "print(data[0])\n",
    "origin_pos = np.squeeze(data[0]['origin_position']).astype(np.float64)\n",
    "pial_pos = np.squeeze(data[0]['intersect_position']).astype(np.float64)\n",
    "\n",
    "\n",
    "print(origin_pos,pial_pos)"
   ]
  },
  {
   "cell_type": "code",
   "execution_count": 7,
   "metadata": {},
   "outputs": [
    {
     "data": {
      "text/plain": [
       "1"
      ]
     },
     "execution_count": 7,
     "metadata": {},
     "output_type": "execute_result"
    }
   ],
   "source": [
    "import vtk\n",
    "\n",
    "\n",
    "# Create a vtkPoints object and store the points in it\n",
    "points = vtk.vtkPoints()\n",
    "points.InsertNextPoint(origin_pos)\n",
    "points.InsertNextPoint(pial_pos)\n",
    "\n",
    "# Create a line between the two points\n",
    "line = vtk.vtkLine()\n",
    "line.GetPointIds().SetId(0, 0)  # the second 0 is the index of the first point in points\n",
    "line.GetPointIds().SetId(1, 1)  # the second 1 is the index of the second point in points\n",
    "\n",
    "# Create a cell array to store the line and insert the line into it\n",
    "lines = vtk.vtkCellArray()\n",
    "lines.InsertNextCell(line)\n",
    "\n",
    "# Create a scalar array to store color values (assuming a single line here)\n",
    "colors = vtk.vtkDoubleArray()\n",
    "colors.SetName(\"Colors\")  # Name the scalar\n",
    "colors.InsertNextValue(1.0)  # Assuming a scalar value of 1.0 for this line\n",
    "\n",
    "# Create a polydata to store everything\n",
    "linesPolyData = vtk.vtkPolyData()\n",
    "linesPolyData.SetPoints(points)\n",
    "linesPolyData.SetLines(lines)\n",
    "linesPolyData.GetCellData().SetScalars(colors)\n",
    "\n",
    "# Write the polydata to a file\n",
    "writer = vtk.vtkPolyDataWriter()\n",
    "writer.SetFileName(\"line.vtk\")\n",
    "writer.SetInputData(linesPolyData)\n",
    "writer.Write()\n",
    "\n"
   ]
  }
 ],
 "metadata": {
  "kernelspec": {
   "display_name": "CortexODE",
   "language": "python",
   "name": "python3"
  },
  "language_info": {
   "codemirror_mode": {
    "name": "ipython",
    "version": 3
   },
   "file_extension": ".py",
   "mimetype": "text/x-python",
   "name": "python",
   "nbconvert_exporter": "python",
   "pygments_lexer": "ipython3",
   "version": "3.9.17"
  },
  "orig_nbformat": 4
 },
 "nbformat": 4,
 "nbformat_minor": 2
}
