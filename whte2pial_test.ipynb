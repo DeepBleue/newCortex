{
 "cells": [
  {
   "cell_type": "code",
   "execution_count": 3,
   "metadata": {},
   "outputs": [],
   "source": [
    "import numpy as np\n",
    "from tqdm.notebook import tqdm\n",
    "import trimesh\n",
    "from queue import PriorityQueue\n",
    "import matplotlib.pyplot as plt\n",
    "from make_vtk import write_lines_to_vtk,write_points_to_vtk\n",
    "from vtk_revise import read_vtk,write_vtk\n",
    "from faster_generate_cone import generate_vectors_in_cone,plot_vectors_in_3d\n",
    "from generate_interpolate_vector import generate_multiple_vectors"
   ]
  },
  {
   "cell_type": "code",
   "execution_count": 4,
   "metadata": {},
   "outputs": [],
   "source": [
    "def normalize_points(points):\n",
    "    \"\"\"Normalize a set of 3D points.\"\"\"\n",
    "    norms = np.linalg.norm(points, axis=1, keepdims=True)\n",
    "    norms[norms == 0] = 1  # Avoid division by zero\n",
    "    return points / norms"
   ]
  },
  {
   "cell_type": "code",
   "execution_count": 5,
   "metadata": {},
   "outputs": [],
   "source": [
    "white = read_vtk('./AllCortexData/GS_CortexODE/SUBJ_001_MR_BL/surf/lh.CortexODE.white.vtk')\n",
    "pial = read_vtk('./AllCortexData/GS_CortexODE/SUBJ_001_MR_BL/surf/lh.CortexODE.pial.vtk')\n",
    "\n",
    "white_vertices = white['vertices']\n",
    "white_faces = white['faces'][:,1:]\n",
    "\n",
    "pial_vertices = pial['vertices']\n",
    "pial_faces = pial['faces'][:,1:]"
   ]
  },
  {
   "cell_type": "code",
   "execution_count": 6,
   "metadata": {},
   "outputs": [],
   "source": [
    "# Load your target mesh\n",
    "origin_mesh = trimesh.Trimesh(vertices=white_vertices, faces=white_faces)\n",
    "target_mesh = trimesh.Trimesh(vertices=pial_vertices, faces=pial_faces)\n",
    "\n",
    "\n",
    "white2pial_dir = normalize_points(pial_vertices - white_vertices)\n",
    "\n",
    "locations, index_ray, index_tri = target_mesh.ray.intersects_location(ray_origins=white_vertices, ray_directions=white2pial_dir)"
   ]
  },
  {
   "cell_type": "code",
   "execution_count": 7,
   "metadata": {},
   "outputs": [],
   "source": [
    "pairs = []\n",
    "thicknesses = []\n",
    "not_intersect = []"
   ]
  },
  {
   "cell_type": "code",
   "execution_count": 9,
   "metadata": {},
   "outputs": [
    {
     "data": {
      "application/vnd.jupyter.widget-view+json": {
       "model_id": "d3c5c9927cd8475887a21a6adda80409",
       "version_major": 2,
       "version_minor": 0
      },
      "text/plain": [
       "  0%|          | 0/142422 [00:00<?, ?it/s]"
      ]
     },
     "metadata": {},
     "output_type": "display_data"
    }
   ],
   "source": [
    "for idx in tqdm(range(len(white_vertices))):\n",
    "    real_idx = np.where(index_ray == idx)\n",
    "    subset_locations = locations[real_idx]\n",
    "    subset_origin = white_vertices[idx]\n",
    "    distances = [np.linalg.norm(loc - subset_origin) for loc in subset_locations]\n",
    "    \n",
    "    if distances:\n",
    "        min_distance_index = np.argmin(distances)\n",
    "        closest_location = subset_locations[min_distance_index]\n",
    "        closest_distance = distances[min_distance_index]\n",
    "        \n",
    "        pairs.append((subset_origin, closest_location))\n",
    "        thicknesses.append(closest_distance)\n",
    "        \n",
    "    else:\n",
    "        thicknesses.append(float('nan'))\n",
    "        not_intersect.append(subset_origin)\n",
    "    "
   ]
  },
  {
   "cell_type": "code",
   "execution_count": 10,
   "metadata": {},
   "outputs": [
    {
     "name": "stdout",
     "output_type": "stream",
     "text": [
      "1320\n"
     ]
    }
   ],
   "source": [
    "print(len(not_intersect))"
   ]
  }
 ],
 "metadata": {
  "kernelspec": {
   "display_name": "CortexODE",
   "language": "python",
   "name": "python3"
  },
  "language_info": {
   "codemirror_mode": {
    "name": "ipython",
    "version": 3
   },
   "file_extension": ".py",
   "mimetype": "text/x-python",
   "name": "python",
   "nbconvert_exporter": "python",
   "pygments_lexer": "ipython3",
   "version": "3.9.17"
  },
  "orig_nbformat": 4
 },
 "nbformat": 4,
 "nbformat_minor": 2
}
