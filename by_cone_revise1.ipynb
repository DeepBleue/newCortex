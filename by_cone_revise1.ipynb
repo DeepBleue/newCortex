{
 "cells": [
  {
   "cell_type": "code",
   "execution_count": 1,
   "metadata": {},
   "outputs": [],
   "source": [
    "import numpy as np\n",
    "from tqdm.notebook import tqdm\n",
    "import trimesh\n",
    "from queue import PriorityQueue\n",
    "import matplotlib.pyplot as plt\n",
    "from make_vtk import write_lines_to_vtk,write_points_to_vtk\n",
    "from vtk_revise import read_vtk,write_vtk\n",
    "from faster_generate_cone import generate_vectors_in_cone,plot_vectors_in_3d\n",
    "# import cupy as cp"
   ]
  },
  {
   "cell_type": "code",
   "execution_count": 2,
   "metadata": {},
   "outputs": [],
   "source": [
    "white = read_vtk('./AllCortexData/GS_CortexODE/SUBJ_001_MR_BL/surf/lh.CortexODE.white.vtk')\n",
    "pial = read_vtk('./AllCortexData/GS_CortexODE/SUBJ_001_MR_BL/surf/lh.CortexODE.pial.vtk')\n",
    "\n",
    "white_vertices = white['vertices']\n",
    "white_faces = white['faces'][:,1:]\n",
    "\n",
    "pial_vertices = pial['vertices']\n",
    "pial_faces = pial['faces'][:,1:]"
   ]
  },
  {
   "cell_type": "code",
   "execution_count": 3,
   "metadata": {},
   "outputs": [
    {
     "name": "stdout",
     "output_type": "stream",
     "text": [
      "(142422, 3)\n"
     ]
    }
   ],
   "source": [
    "# Load your target mesh\n",
    "origin_mesh = trimesh.Trimesh(vertices=white_vertices, faces=white_faces)\n",
    "target_mesh = trimesh.Trimesh(vertices=pial_vertices, faces=pial_faces)\n",
    "\n",
    "# origin vertex normals\n",
    "origin_directions = origin_mesh.vertex_normals.copy()\n",
    "white2pial_dir = pial_vertices - white_vertices\n",
    "dir_sign = (np.sum(white2pial_dir*origin_directions,axis=1) < 0)\n",
    "origin_directions[dir_sign] *= -1\n",
    "\n",
    "print(white_vertices.shape)"
   ]
  },
  {
   "cell_type": "code",
   "execution_count": 4,
   "metadata": {},
   "outputs": [
    {
     "data": {
      "application/vnd.jupyter.widget-view+json": {
       "model_id": "7948b91508824437a9b3205a473e28e8",
       "version_major": 2,
       "version_minor": 0
      },
      "text/plain": [
       "  0%|          | 0/142422 [00:00<?, ?it/s]"
      ]
     },
     "metadata": {},
     "output_type": "display_data"
    },
    {
     "name": "stdout",
     "output_type": "stream",
     "text": [
      "(26468754, 3)\n"
     ]
    }
   ],
   "source": [
    "# Pre-compute all the cone directions for all origins\n",
    "all_origins = []\n",
    "all_directions = []\n",
    "\n",
    "for idx in tqdm(range(len(white_vertices))):\n",
    "    origin_pos = white_vertices[idx]\n",
    "    origin_cone_directions = generate_vectors_in_cone(origin_directions[idx], 15, 50)\n",
    "    all_origins.extend([origin_pos] * len(origin_cone_directions))\n",
    "    all_directions.extend(origin_cone_directions)\n",
    "\n",
    "# Find ray-mesh intersections for all origins and directions at once\n",
    "locations, index_ray, index_tri = target_mesh.ray.intersects_location(ray_origins=all_origins, ray_directions=all_directions)\n",
    "\n",
    "print(locations.shape)"
   ]
  },
  {
   "cell_type": "code",
   "execution_count": 20,
   "metadata": {},
   "outputs": [
    {
     "name": "stdout",
     "output_type": "stream",
     "text": [
      "<class 'list'>\n",
      "<class 'list'>\n"
     ]
    }
   ],
   "source": [
    "print(type(all_origins))\n",
    "print(type(all_directions))\n"
   ]
  },
  {
   "cell_type": "code",
   "execution_count": 5,
   "metadata": {},
   "outputs": [
    {
     "data": {
      "application/vnd.jupyter.widget-view+json": {
       "model_id": "0c12fd1cda1a444db752b9687250efa9",
       "version_major": 2,
       "version_minor": 0
      },
      "text/plain": [
       "  0%|          | 0/142422 [00:00<?, ?it/s]"
      ]
     },
     "metadata": {},
     "output_type": "display_data"
    },
    {
     "ename": "KeyboardInterrupt",
     "evalue": "",
     "output_type": "error",
     "traceback": [
      "\u001b[1;31m---------------------------------------------------------------------------\u001b[0m",
      "\u001b[1;31mKeyboardInterrupt\u001b[0m                         Traceback (most recent call last)",
      "\u001b[1;32mc:\\Users\\pari0\\OneDrive - 고려대학교\\바탕 화면\\newCortex\\by_cone_revise1.ipynb Cell 5\u001b[0m line \u001b[0;36m1\n\u001b[0;32m     <a href='vscode-notebook-cell:/c%3A/Users/pari0/OneDrive%20-%20%EA%B3%A0%EB%A0%A4%EB%8C%80%ED%95%99%EA%B5%90/%EB%B0%94%ED%83%95%20%ED%99%94%EB%A9%B4/newCortex/by_cone_revise1.ipynb#W4sZmlsZQ%3D%3D?line=10'>11</a>\u001b[0m subset_locations \u001b[39m=\u001b[39m locations[real_idx]\n\u001b[0;32m     <a href='vscode-notebook-cell:/c%3A/Users/pari0/OneDrive%20-%20%EA%B3%A0%EB%A0%A4%EB%8C%80%ED%95%99%EA%B5%90/%EB%B0%94%ED%83%95%20%ED%99%94%EB%A9%B4/newCortex/by_cone_revise1.ipynb#W4sZmlsZQ%3D%3D?line=12'>13</a>\u001b[0m subset_origin \u001b[39m=\u001b[39m all_origins[idx]\n\u001b[1;32m---> <a href='vscode-notebook-cell:/c%3A/Users/pari0/OneDrive%20-%20%EA%B3%A0%EB%A0%A4%EB%8C%80%ED%95%99%EA%B5%90/%EB%B0%94%ED%83%95%20%ED%99%94%EB%A9%B4/newCortex/by_cone_revise1.ipynb#W4sZmlsZQ%3D%3D?line=14'>15</a>\u001b[0m distances \u001b[39m=\u001b[39m [np\u001b[39m.\u001b[39mlinalg\u001b[39m.\u001b[39mnorm(loc \u001b[39m-\u001b[39m subset_origin) \u001b[39mfor\u001b[39;00m loc \u001b[39min\u001b[39;00m subset_locations]\n\u001b[0;32m     <a href='vscode-notebook-cell:/c%3A/Users/pari0/OneDrive%20-%20%EA%B3%A0%EB%A0%A4%EB%8C%80%ED%95%99%EA%B5%90/%EB%B0%94%ED%83%95%20%ED%99%94%EB%A9%B4/newCortex/by_cone_revise1.ipynb#W4sZmlsZQ%3D%3D?line=16'>17</a>\u001b[0m \u001b[39mif\u001b[39;00m distances:\n\u001b[0;32m     <a href='vscode-notebook-cell:/c%3A/Users/pari0/OneDrive%20-%20%EA%B3%A0%EB%A0%A4%EB%8C%80%ED%95%99%EA%B5%90/%EB%B0%94%ED%83%95%20%ED%99%94%EB%A9%B4/newCortex/by_cone_revise1.ipynb#W4sZmlsZQ%3D%3D?line=17'>18</a>\u001b[0m     min_distance_index \u001b[39m=\u001b[39m np\u001b[39m.\u001b[39margmin(distances)\n",
      "\u001b[1;32mc:\\Users\\pari0\\OneDrive - 고려대학교\\바탕 화면\\newCortex\\by_cone_revise1.ipynb Cell 5\u001b[0m line \u001b[0;36m1\n\u001b[0;32m     <a href='vscode-notebook-cell:/c%3A/Users/pari0/OneDrive%20-%20%EA%B3%A0%EB%A0%A4%EB%8C%80%ED%95%99%EA%B5%90/%EB%B0%94%ED%83%95%20%ED%99%94%EB%A9%B4/newCortex/by_cone_revise1.ipynb#W4sZmlsZQ%3D%3D?line=10'>11</a>\u001b[0m subset_locations \u001b[39m=\u001b[39m locations[real_idx]\n\u001b[0;32m     <a href='vscode-notebook-cell:/c%3A/Users/pari0/OneDrive%20-%20%EA%B3%A0%EB%A0%A4%EB%8C%80%ED%95%99%EA%B5%90/%EB%B0%94%ED%83%95%20%ED%99%94%EB%A9%B4/newCortex/by_cone_revise1.ipynb#W4sZmlsZQ%3D%3D?line=12'>13</a>\u001b[0m subset_origin \u001b[39m=\u001b[39m all_origins[idx]\n\u001b[1;32m---> <a href='vscode-notebook-cell:/c%3A/Users/pari0/OneDrive%20-%20%EA%B3%A0%EB%A0%A4%EB%8C%80%ED%95%99%EA%B5%90/%EB%B0%94%ED%83%95%20%ED%99%94%EB%A9%B4/newCortex/by_cone_revise1.ipynb#W4sZmlsZQ%3D%3D?line=14'>15</a>\u001b[0m distances \u001b[39m=\u001b[39m [np\u001b[39m.\u001b[39mlinalg\u001b[39m.\u001b[39mnorm(loc \u001b[39m-\u001b[39;49m subset_origin) \u001b[39mfor\u001b[39;00m loc \u001b[39min\u001b[39;00m subset_locations]\n\u001b[0;32m     <a href='vscode-notebook-cell:/c%3A/Users/pari0/OneDrive%20-%20%EA%B3%A0%EB%A0%A4%EB%8C%80%ED%95%99%EA%B5%90/%EB%B0%94%ED%83%95%20%ED%99%94%EB%A9%B4/newCortex/by_cone_revise1.ipynb#W4sZmlsZQ%3D%3D?line=16'>17</a>\u001b[0m \u001b[39mif\u001b[39;00m distances:\n\u001b[0;32m     <a href='vscode-notebook-cell:/c%3A/Users/pari0/OneDrive%20-%20%EA%B3%A0%EB%A0%A4%EB%8C%80%ED%95%99%EA%B5%90/%EB%B0%94%ED%83%95%20%ED%99%94%EB%A9%B4/newCortex/by_cone_revise1.ipynb#W4sZmlsZQ%3D%3D?line=17'>18</a>\u001b[0m     min_distance_index \u001b[39m=\u001b[39m np\u001b[39m.\u001b[39margmin(distances)\n",
      "\u001b[1;31mKeyboardInterrupt\u001b[0m: "
     ]
    }
   ],
   "source": [
    "# Now, process the results\n",
    "pairs = []\n",
    "thicknesses = []\n",
    "not_intersect = []\n",
    "\n",
    "# 'idx' is a factor to know which original vertex we are looking at. \n",
    "# This will change every 50 iterations (since there are 50 samples for each vertex).\n",
    "for idx in tqdm(range(0, len(all_origins), 50)):\n",
    "\n",
    "    real_idx = np.where((index_ray >= idx) & (index_ray < idx+50))\n",
    "    subset_locations = locations[real_idx]\n",
    "\n",
    "    subset_origin = all_origins[idx]\n",
    "    \n",
    "    distances = [np.linalg.norm(loc - subset_origin) for loc in subset_locations]\n",
    "\n",
    "    if distances:\n",
    "        min_distance_index = np.argmin(distances)\n",
    "        closest_location = subset_locations[min_distance_index]\n",
    "        closest_distance = distances[min_distance_index]\n",
    "        \n",
    "        pairs.append((subset_origin, closest_location))\n",
    "        thicknesses.append(closest_distance)\n",
    "        \n",
    "        # if closest_distance > 7:\n",
    "        #     thicknesses.append(float('nan'))\n",
    "        #     not_intersect.append(subset_origin)\n",
    "        # else : \n",
    "        #     pairs.append((subset_origin, closest_location))\n",
    "        #     thicknesses.append(closest_distance)\n",
    "    else:\n",
    "        thicknesses.append(float('nan'))\n",
    "        not_intersect.append(subset_origin)\n"
   ]
  },
  {
   "cell_type": "code",
   "execution_count": null,
   "metadata": {},
   "outputs": [],
   "source": [
    "thicknesses = np.array(thicknesses)\n",
    "white['new_thickness'] = thicknesses\n",
    "write_vtk(white,'./cone_data/subject1_lh_white.vtk')\n",
    "write_lines_to_vtk(pairs, f\"./cone_data/pair_line.vtk\")\n",
    "write_points_to_vtk(not_intersect,f\"./cone_data/not_intersect_point.vtk\",color=(255,0,0))\n"
   ]
  }
 ],
 "metadata": {
  "kernelspec": {
   "display_name": "CortexODE",
   "language": "python",
   "name": "python3"
  },
  "language_info": {
   "codemirror_mode": {
    "name": "ipython",
    "version": 3
   },
   "file_extension": ".py",
   "mimetype": "text/x-python",
   "name": "python",
   "nbconvert_exporter": "python",
   "pygments_lexer": "ipython3",
   "version": "3.9.17"
  },
  "orig_nbformat": 4
 },
 "nbformat": 4,
 "nbformat_minor": 2
}
