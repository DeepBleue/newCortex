{
 "cells": [
  {
   "cell_type": "code",
   "execution_count": 15,
   "metadata": {},
   "outputs": [],
   "source": [
    "import numpy as np\n",
    "from tqdm.notebook import tqdm\n",
    "import trimesh\n",
    "from queue import PriorityQueue\n",
    "import matplotlib.pyplot as plt\n",
    "from make_vtk import write_lines_to_vtk,write_points_to_vtk\n",
    "from vtk_revise import read_vtk,write_vtk\n",
    "from faster_generate_cone import generate_vectors_in_cone,plot_vectors_in_3d\n",
    "from generate_interpolate_vector import generate_multiple_vectors"
   ]
  },
  {
   "cell_type": "code",
   "execution_count": 16,
   "metadata": {},
   "outputs": [],
   "source": [
    "def normalize_points(points):\n",
    "    \"\"\"Normalize a set of 3D points.\"\"\"\n",
    "    norms = np.linalg.norm(points, axis=1, keepdims=True)\n",
    "    norms[norms == 0] = 1  # Avoid division by zero\n",
    "    return points / norms"
   ]
  },
  {
   "cell_type": "code",
   "execution_count": 17,
   "metadata": {},
   "outputs": [],
   "source": [
    "white = read_vtk('./AllCortexData/GS_CortexODE/SUBJ_001_MR_BL/surf/lh.CortexODE.white.vtk')\n",
    "pial = read_vtk('./AllCortexData/GS_CortexODE/SUBJ_001_MR_BL/surf/lh.CortexODE.pial.vtk')\n",
    "\n",
    "white_vertices = white['vertices']\n",
    "white_faces = white['faces'][:,1:]\n",
    "\n",
    "pial_vertices = pial['vertices']\n",
    "pial_faces = pial['faces'][:,1:]"
   ]
  },
  {
   "cell_type": "code",
   "execution_count": 18,
   "metadata": {},
   "outputs": [],
   "source": [
    "# Load your target mesh\n",
    "origin_mesh = trimesh.Trimesh(vertices=white_vertices, faces=white_faces)\n",
    "target_mesh = trimesh.Trimesh(vertices=pial_vertices, faces=pial_faces)\n",
    "\n",
    "# origin vertex normals\n",
    "origin_directions = origin_mesh.vertex_normals.copy()\n",
    "white2pial_dir = normalize_points(pial_vertices - white_vertices)\n",
    "dir_sign = (np.sum(white2pial_dir*origin_directions,axis=1) < 0)\n",
    "origin_directions[dir_sign] *= -1\n",
    "\n",
    "# print(white_vertices.shape)\n",
    "# print(type(white2pial_dir))\n",
    "# print(type(origin_directions))\n"
   ]
  },
  {
   "cell_type": "code",
   "execution_count": 4,
   "metadata": {},
   "outputs": [
    {
     "data": {
      "application/vnd.jupyter.widget-view+json": {
       "model_id": "ca6855df6a604aedaf66de39502bc0ee",
       "version_major": 2,
       "version_minor": 0
      },
      "text/plain": [
       "  0%|          | 0/142422 [00:00<?, ?it/s]"
      ]
     },
     "metadata": {},
     "output_type": "display_data"
    },
    {
     "data": {
      "application/vnd.jupyter.widget-view+json": {
       "model_id": "803f82f1a1884640a04b2d61b261dc48",
       "version_major": 2,
       "version_minor": 0
      },
      "text/plain": [
       "  0%|          | 0/142422 [00:00<?, ?it/s]"
      ]
     },
     "metadata": {},
     "output_type": "display_data"
    },
    {
     "name": "stdout",
     "output_type": "stream",
     "text": [
      "7121100\n",
      "7121100\n"
     ]
    }
   ],
   "source": [
    "# Pre-compute all the cone directions for all origins\n",
    "all_origins = []\n",
    "\n",
    "all_directions = generate_multiple_vectors(origin_directions,white2pial_dir , 50)\n",
    "for idx in tqdm(range(len(white_vertices))):\n",
    "    origin_pos = white_vertices[idx]\n",
    "    all_origins.extend([origin_pos] * 50)\n",
    "    \n",
    "print(len(all_origins))\n",
    "print(len(all_directions)) \n",
    "    "
   ]
  },
  {
   "cell_type": "code",
   "execution_count": 24,
   "metadata": {},
   "outputs": [
    {
     "name": "stdout",
     "output_type": "stream",
     "text": [
      "[ 0.06252081 -0.1446068  -0.98751205]\n",
      "[ 0.06252081 -0.1446068  -0.98751205]\n"
     ]
    }
   ],
   "source": [
    "\n",
    "# print(origin_directions[0])\n",
    "print(all_directions[99])\n",
    "print(white2pial_dir[1])\n",
    "\n",
    "\n",
    "# print(white2pial_dir[1])\n",
    "# print(all_directions[99])"
   ]
  },
  {
   "cell_type": "code",
   "execution_count": 20,
   "metadata": {},
   "outputs": [],
   "source": [
    "# Find ray-mesh intersections for all origins and directions at once\n",
    "locations, index_ray, index_tri = target_mesh.ray.intersects_location(ray_origins=all_origins, ray_directions=all_directions)"
   ]
  },
  {
   "cell_type": "code",
   "execution_count": 21,
   "metadata": {},
   "outputs": [
    {
     "data": {
      "application/vnd.jupyter.widget-view+json": {
       "model_id": "703f2d42ac984b618cdc8d7035e44fca",
       "version_major": 2,
       "version_minor": 0
      },
      "text/plain": [
       "  0%|          | 0/24155061 [00:00<?, ?it/s]"
      ]
     },
     "metadata": {},
     "output_type": "display_data"
    }
   ],
   "source": [
    "# Now, process the results\n",
    "\n",
    "threshold = 7.2\n",
    "\n",
    "pairs = []\n",
    "thicknesses = []\n",
    "not_intersect = []\n",
    "not_intersect_idx = []\n",
    "too_long_pair = []\n",
    "\n",
    "index_groups = {}\n",
    "for i, ray_idx in tqdm(enumerate(index_ray), total=len(index_ray)):\n",
    "    if ray_idx not in index_groups:\n",
    "        index_groups[ray_idx] = []\n",
    "    index_groups[ray_idx].append(i)"
   ]
  },
  {
   "cell_type": "code",
   "execution_count": 22,
   "metadata": {},
   "outputs": [
    {
     "data": {
      "application/vnd.jupyter.widget-view+json": {
       "model_id": "33f4960adbba444c85b5f2d0f824e1c2",
       "version_major": 2,
       "version_minor": 0
      },
      "text/plain": [
       "  0%|          | 0/142422 [00:00<?, ?it/s]"
      ]
     },
     "metadata": {},
     "output_type": "display_data"
    }
   ],
   "source": [
    "\n",
    "# 'idx' is a factor to know which original vertex we are looking at. \n",
    "# This will change every 50 iterations (since there are 50 samples for each vertex).\n",
    "for idx in tqdm(range(0, len(all_origins), 50)):\n",
    "\n",
    "    # real_idx_1 = np.where((index_ray >= idx) & (index_ray < idx+50))\n",
    "    real_idx_2 = []\n",
    "    for i in range(idx, idx+50):\n",
    "        real_idx_2.extend(index_groups.get(i, []))\n",
    "        \n",
    "    subset_locations = locations[real_idx_2]\n",
    "\n",
    "    subset_origin = all_origins[idx]\n",
    "    \n",
    "    distances = [np.linalg.norm(loc - subset_origin) for loc in subset_locations]\n",
    "\n",
    "    if distances:\n",
    "        min_distance_index = np.argmin(distances)\n",
    "        closest_location = subset_locations[min_distance_index]\n",
    "        closest_distance = distances[min_distance_index]\n",
    "        \n",
    "        # pairs.append((subset_origin, closest_location))\n",
    "        # thicknesses.append(closest_distance)\n",
    "        \n",
    "        if closest_distance > threshold:\n",
    "            # thicknesses.append(float('nan'))\n",
    "            too_long_pair.append((subset_origin, closest_location))\n",
    "            not_intersect.append(subset_origin)\n",
    "            real_idx = int(idx/50)\n",
    "            not_intersect_idx.append(real_idx)\n",
    "            white2pial_dist = np.linalg.norm(white_vertices[real_idx]-pial_vertices[real_idx])\n",
    "            pairs.append((white_vertices[real_idx], pial_vertices[real_idx]))\n",
    "            thicknesses.append(white2pial_dist)\n",
    "\n",
    "            \n",
    "        else : \n",
    "            pairs.append((subset_origin, closest_location))\n",
    "            thicknesses.append(closest_distance)\n",
    "    else:\n",
    "        # thicknesses.append(float('nan'))\n",
    "        # thicknesses.append()\n",
    "        not_intersect.append(subset_origin)\n",
    "        not_intersect_idx.append(int(idx/50))\n",
    "        \n",
    "        real_idx = int(idx/50)\n",
    "        not_intersect_idx.append(real_idx)\n",
    "        white2pial_dist = np.linalg.norm(white_vertices[real_idx]-pial_vertices[real_idx])\n",
    "        pairs.append((white_vertices[real_idx], pial_vertices[real_idx]))\n",
    "        thicknesses.append(white2pial_dist)"
   ]
  },
  {
   "cell_type": "code",
   "execution_count": 23,
   "metadata": {},
   "outputs": [
    {
     "name": "stdout",
     "output_type": "stream",
     "text": [
      "19\n",
      "38.36070613725069\n",
      "0.0002492948700882892\n"
     ]
    }
   ],
   "source": [
    "nan_count = np.isnan(thicknesses).sum()\n",
    "thicknesses = np.array(thicknesses)\n",
    "white['new_thickness'] = thicknesses\n",
    "not_inter_ori_ray = []\n",
    "for i in not_intersect_idx : \n",
    "    not_inter_ori_ray.append((white_vertices[i],pial_vertices[i]))\n",
    "\n",
    "\n",
    "print(nan_count)\n",
    "print(len(not_intersect))\n",
    "\n",
    "\n",
    "print(max(thicknesses))\n",
    "print(min(thicknesses))\n",
    "\n",
    "\n",
    "write_vtk(white,f'./new_data/subject1_lh_white_inter.vtk')\n",
    "write_lines_to_vtk(pairs, f\"./new_data/pair_line_inter.vtk\")\n",
    "write_points_to_vtk(not_intersect,f\"./new_data/not_intersect_point_inter.vtk\",color=(255,0,0))\n",
    "write_lines_to_vtk(too_long_pair, f\"./new_data/long_line_inter.vtk\")\n",
    "write_lines_to_vtk(not_inter_ori_ray, f\"./new_data/not_inter_ori_ray.vtk\")\n",
    "\n",
    "\n",
    "# write_vtk(white,f'./cone_data/subject1_lh_white_inter_thres{threshold}.vtk')\n",
    "# write_lines_to_vtk(pairs, f\"./cone_data/pair_line_inter_thres{threshold}.vtk\")\n",
    "# write_points_to_vtk(not_intersect,f\"./cone_data/not_intersect_point_inter_thres{threshold}.vtk\",color=(255,0,0))\n",
    "# write_lines_to_vtk(too_long_pair, f\"./cone_data/long_line_inter_{threshold}.vtk\")\n",
    "# write_lines_to_vtk(not_inter_ori_ray, f\"./cone_data/not_inter_ori_ray.vtk\")"
   ]
  }
 ],
 "metadata": {
  "kernelspec": {
   "display_name": "CortexODE",
   "language": "python",
   "name": "python3"
  },
  "language_info": {
   "codemirror_mode": {
    "name": "ipython",
    "version": 3
   },
   "file_extension": ".py",
   "mimetype": "text/x-python",
   "name": "python",
   "nbconvert_exporter": "python",
   "pygments_lexer": "ipython3",
   "version": "3.9.17"
  },
  "orig_nbformat": 4
 },
 "nbformat": 4,
 "nbformat_minor": 2
}
