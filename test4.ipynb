{
 "cells": [
  {
   "cell_type": "code",
   "execution_count": 2,
   "metadata": {},
   "outputs": [],
   "source": [
    "import numpy as np\n",
    "from tqdm.notebook import tqdm\n",
    "import trimesh\n",
    "from queue import PriorityQueue\n",
    "import matplotlib.pyplot as plt\n",
    "from make_vtk import write_lines_to_vtk,write_points_to_vtk\n",
    "from vtk_revise import read_vtk,write_vtk\n",
    "# import cupy as cp"
   ]
  },
  {
   "cell_type": "code",
   "execution_count": 3,
   "metadata": {},
   "outputs": [],
   "source": [
    "white = read_vtk('./AllCortexData/GS_CortexODE/SUBJ_001_MR_BL/surf/lh.CortexODE.white.vtk')\n",
    "pial = read_vtk('./AllCortexData/GS_CortexODE/SUBJ_001_MR_BL/surf/lh.CortexODE.pial.vtk')\n",
    "\n",
    "\n",
    "\n",
    "white_vertices = white['vertices']\n",
    "white_faces = white['faces'][:,1:]\n",
    "\n",
    "pial_vertices = pial['vertices']\n",
    "pial_faces = pial['faces'][:,1:]\n",
    "\n"
   ]
  },
  {
   "cell_type": "code",
   "execution_count": 4,
   "metadata": {},
   "outputs": [],
   "source": [
    "import trimesh\n",
    "import numpy as np\n",
    "\n",
    "# white 2 pial directions\n",
    "white2pial_dir = pial_vertices - white_vertices\n",
    "\n",
    "\n",
    "# Create the meshes\n",
    "origin_mesh = trimesh.Trimesh(vertices=white_vertices, faces=white_faces)\n",
    "target_mesh = trimesh.Trimesh(vertices=pial_vertices, faces=pial_faces)\n",
    "\n",
    "# Create intersectors for both meshes\n",
    "origin_intersector = trimesh.ray.ray_pyembree.RayMeshIntersector(origin_mesh)\n",
    "target_intersector = trimesh.ray.ray_pyembree.RayMeshIntersector(target_mesh)\n",
    "\n",
    "# For each vertex in the origin mesh, shoot a ray in the direction of its normal\n",
    "origins = origin_mesh.vertices\n",
    "directions = origin_mesh.vertex_normals.copy()\n",
    "\n",
    "dir_sign = (np.sum(white2pial_dir*directions,axis=1) < 0)\n",
    "directions[dir_sign] *= -1\n",
    "\n",
    " \n",
    "# Get self - intersections   # trimesh는 스스로 겹치는 것은 취급을 안한다. \n",
    "self_locations, self_index_ray, self_index_tri = origin_intersector.intersects_location(\n",
    "    origins,\n",
    "    directions, \n",
    "    multiple_hits=True)\n",
    "\n",
    "# Get intersections\n",
    "locations, index_ray, index_tri = target_intersector.intersects_location(\n",
    "    origins,\n",
    "    directions, \n",
    "    multiple_hits=True)\n",
    "\n",
    "\n",
    "# print(locations.shape)   #(530738, 3)\n",
    "# print(index_ray.shape)   #(530738,)"
   ]
  },
  {
   "cell_type": "code",
   "execution_count": 11,
   "metadata": {},
   "outputs": [
    {
     "data": {
      "application/vnd.jupyter.widget-view+json": {
       "model_id": "0d28e1e6b1b74d9c97d742ed4116a2df",
       "version_major": 2,
       "version_minor": 0
      },
      "text/plain": [
       "  0%|          | 0/142422 [00:00<?, ?it/s]"
      ]
     },
     "metadata": {},
     "output_type": "display_data"
    },
    {
     "name": "stdout",
     "output_type": "stream",
     "text": [
      "142422\n",
      "6.997801855246906\n",
      "[3.18507367 4.61491413 3.35244491 ... 3.46846138 3.63713319 3.51621519]\n"
     ]
    }
   ],
   "source": [
    "thickness = []\n",
    "pair = []\n",
    "\n",
    "self_intersect_idx = []\n",
    "not_intersect_idx = []\n",
    "not_intersect_pos = []\n",
    "\n",
    "too_long = []\n",
    "too_long_pair = []\n",
    "\n",
    "temp_line = []\n",
    "\n",
    "self_intersect_pos = self_locations                   # ( 530738 , 3 ) \n",
    "self_origin_pos = origins[self_index_ray]             # ( 530738 , 3 ) \n",
    "self_directions_vector = directions[self_index_ray]   # ( 530738 , 3 ) \n",
    "\n",
    "self_distances = np.sqrt(np.sum((self_intersect_pos - self_origin_pos)**2,axis=1)) \n",
    "\n",
    "\n",
    "intersect_pos = locations                    # ( 530738 , 3 ) \n",
    "origin_pos = origins[index_ray]              # ( 530738 , 3 ) \n",
    "directions_vector = directions[index_ray]    # ( 530738 , 3 ) \n",
    "\n",
    "threshold = 7\n",
    "\n",
    "distances = np.sqrt(np.sum((intersect_pos - origin_pos)**2,axis=1))   # ( 530738 ,  ) \n",
    "\n",
    "\n",
    "\n",
    "\n",
    "for i in tqdm(range(len(origins))):\n",
    "  \n",
    "\n",
    "  if i in index_ray :     # white에서 pial intersect 있을 때 \n",
    "    white2pial_d = white2pial_dir[i]\n",
    "    \n",
    "    idx = np.where(index_ray == i)[0]                           # 530738개 중에 i를 가지는 index \n",
    "    temp_dist = distances[idx]                                  # i로 이루어진 거리들\n",
    "    temp_direction_vetors = directions_vector[idx]              # i로 이루어진 방향들\n",
    "    # print(temp_direction_vetors)\n",
    "    real_sign = np.dot(temp_direction_vetors,white2pial_d) > 0  # 기존의 방향과 우리가 구한 방향이 같은 방향이라면 양수 아니면 음수 ( 기존 방향 : white 2 pial )\n",
    "    positive_count = np.sum(real_sign)                          # 맞는 방향으로 intersect하는 친구들의 갯수 \n",
    "    \n",
    "    \n",
    "    if positive_count == 0:                                     # 만일 맞는 방향으로 intersect하는 친구가 없다면 continue\n",
    "      thickness.append(float('nan'))\n",
    "      not_intersect_idx.append(i)\n",
    "      small_idx = np.argmin(temp_dist)\n",
    "      real_idx = idx[small_idx]\n",
    "      temp_line.append((origin_pos[real_idx],intersect_pos[real_idx]))\n",
    "      \n",
    "      continue \n",
    "   \n",
    "    else :                                                      # 맞는 방향으로 통과한다면, 그중 가장 작은 친구 선택.\n",
    "      smallest_index = np.nonzero(real_sign)[0][np.argmin(temp_dist[real_sign])]\n",
    "      smallest_dist = temp_dist[smallest_index]\n",
    "      real_idx = idx[smallest_index]\n",
    "      dir = temp_direction_vetors[smallest_index]\n",
    "      \n",
    "\n",
    "      if i in self_index_ray:                                                    # self intersect 할때\n",
    "        \n",
    "        self_idx = np.where(self_index_ray == i)[0]\n",
    "        self_temp_dist = self_distances[self_idx]\n",
    "        temp_self_direction_vetors = self_directions_vector[self_idx]\n",
    "        # print(temp_self_direction_vetors)\n",
    "        self_sign_mask = np.dot(temp_self_direction_vetors,white2pial_d) > 0     # self intersect 하는 친구가 맞는 방향이라면\n",
    "        \n",
    "        self_positive_count = np.sum(self_sign_mask)     # self intersect하는 친구들 갯수\n",
    "        \n",
    "        if self_positive_count == 0 :        # 방향이 맞지 않아 self intersect하는 친구들이 없다면 thickness 저장.\n",
    "          \n",
    "          if smallest_dist > threshold: \n",
    "            thickness.append(float('nan'))\n",
    "            too_long.append(i)\n",
    "            too_long_pair.append((origin_pos[real_idx],intersect_pos[real_idx]))\n",
    "            \n",
    "          else : \n",
    "            thickness.append(smallest_dist)\n",
    "            pair.append((origin_pos[real_idx],intersect_pos[real_idx]))\n",
    "        \n",
    "        else : # self intersect하는 친구들이 있다면 \n",
    "          self_mask_index = np.nonzero(self_sign_mask)[0][np.argmin(self_temp_dist[self_sign_mask])]\n",
    "          self_smallest_dist= self_temp_dist[self_mask_index]\n",
    "          self_dir = temp_self_direction_vetors[self_mask_index]\n",
    "\n",
    "          # if (self_dir == dir).all() and self_smallest_dist < smallest_dist : \n",
    "          #   thickness.append(float('nan'))\n",
    "          #   self_intersect_idx.append(i)\n",
    "\n",
    "      \n",
    "          if smallest_dist > threshold: \n",
    "            thickness.append(float('nan'))\n",
    "            too_long.append(i)\n",
    "            too_long_pair.append((origin_pos[real_idx],intersect_pos[real_idx]))\n",
    "\n",
    "          else : \n",
    "            thickness.append(smallest_dist)\n",
    "            pair.append((origin_pos[real_idx],intersect_pos[real_idx]))\n",
    "\n",
    "      \n",
    "      else : # 애초에 self intersect 하는 친구가 없다면,\n",
    "        \n",
    "        if smallest_dist > threshold: \n",
    "          thickness.append(float('nan'))\n",
    "          too_long.append(i)\n",
    "          too_long_pair.append((origin_pos[real_idx],intersect_pos[real_idx]))\n",
    "        else : \n",
    "          thickness.append(smallest_dist)\n",
    "          pair.append((origin_pos[real_idx],intersect_pos[real_idx]))\n",
    "        \n",
    "  else : # 아무것도 intersect하지 않을 경우.\n",
    "    thickness.append(float('nan'))\n",
    "    not_intersect_idx.append(i)\n",
    "    not_intersect_pos.append(origins[i])\n",
    "\n",
    "\n",
    "thickness = np.array(thickness)\n",
    "print(len(thickness))\n",
    "print(max(thickness))\n",
    "print(thickness)\n",
    "\n",
    "\n",
    "\n",
    "full_range = np.arange(0,len(origins)-1)\n",
    "missing_numbers = np.setdiff1d(full_range, index_ray)\n",
    "\n",
    "\n"
   ]
  },
  {
   "cell_type": "code",
   "execution_count": 12,
   "metadata": {},
   "outputs": [
    {
     "name": "stdout",
     "output_type": "stream",
     "text": [
      "threshold : 7\n",
      "vertices num : 142422\n",
      "valid thickness num : 134334\n",
      "num nan : 8088\n",
      "\n",
      "---  num nan Specify ---\n",
      "self intersect num : 0\n",
      "removed by threshold : 7967\n",
      "not intersect num : 121\n",
      "all : 8088\n"
     ]
    }
   ],
   "source": [
    "vertex_num = len(thickness)\n",
    "num_nans = np.sum(np.isnan(thickness))\n",
    "valid_thickness_num = vertex_num - num_nans\n",
    "self_intersect_num = len(self_intersect_idx)\n",
    "removed_by_threshold = len(too_long)\n",
    "not_intersect_num = len(not_intersect_idx)\n",
    "\n",
    "\n",
    "\n",
    "print(f'threshold : {threshold}')\n",
    "print(f'vertices num : {vertex_num}')\n",
    "print(f'valid thickness num : {valid_thickness_num}')\n",
    "print(f'num nan : {num_nans}\\n')\n",
    "\n",
    "print(f'---  num nan Specify ---')\n",
    "print(f'self intersect num : {self_intersect_num}')\n",
    "print(f'removed by threshold : {removed_by_threshold}')\n",
    "print(f'not intersect num : {not_intersect_num}')\n",
    "\n",
    "print(f'all : {self_intersect_num + removed_by_threshold + not_intersect_num}')\n"
   ]
  },
  {
   "cell_type": "code",
   "execution_count": 10,
   "metadata": {},
   "outputs": [
    {
     "name": "stdout",
     "output_type": "stream",
     "text": [
      "[TrackedArray([-45.05270004,   7.21500015, -17.24510002]), TrackedArray([-53.63669968, -13.16749954,  -2.69519997]), TrackedArray([-54.48600006, -13.31389999,  -1.03313994]), TrackedArray([-50.84820175,   1.82420003,   0.344118  ]), TrackedArray([-50.97219849,   2.46097994,   0.56502301]), TrackedArray([-30.78089905,  -4.13130999,   4.63777018]), TrackedArray([-46.33649826,   6.35767984,   6.9105401 ]), TrackedArray([-33.79970169,   7.87171984,   7.74628019]), TrackedArray([-59.80329895, -25.99080086,   8.65468979]), TrackedArray([-48.86780167, -27.30260086,  10.34350014]), TrackedArray([-4.45847988, 19.11400032, 13.52219963]), TrackedArray([-3.81808996, 19.03300095, 13.72379971]), TrackedArray([-49.58240128, -26.01490021,  14.41639996]), TrackedArray([-2.76329994,  6.99842978, 14.36340046]), TrackedArray([-49.20759964,  12.54230022,  14.74909973]), TrackedArray([ 0.46351099, 13.83920002, 15.21170044]), TrackedArray([-14.03439999,  19.59889984,  14.88710022]), TrackedArray([-4.38216019, 20.63820076, 13.88469982]), TrackedArray([-3.72110009, 20.16320038, 13.98719978]), TrackedArray([-14.22719955,  20.14550018,  15.14610004]), TrackedArray([-14.99650002,  21.72579956,  14.84959984]), TrackedArray([ 0.480607  , 23.14119911, 14.45349979]), TrackedArray([-46.14429855, -26.14679909,  14.85990047]), TrackedArray([-33.5080986 , -26.40139961,  15.90579987]), TrackedArray([-51.34560013, -23.71689987,  15.77820015]), TrackedArray([-49.06919861,  14.44750023,  15.72920036]), TrackedArray([-1.73057997, 14.67759991, 15.30949974]), TrackedArray([-17.93460083,  17.05590057,  15.69009972]), TrackedArray([-34.64749908,  28.13689995,  16.05389977]), TrackedArray([-18.5583992 , -26.14559937,  16.8784008 ]), TrackedArray([-54.75049973, -24.26740074,  16.72599983]), TrackedArray([-54.29909897, -23.71969986,  16.82049942]), TrackedArray([-52.1106987 , -22.35440063,  16.10829926]), TrackedArray([-40.04610062, -21.61300087,  16.81850052]), TrackedArray([-8.3748703 , 27.94599915, 15.92479992]), TrackedArray([-10.60299969,  31.1060009 ,  16.46089935]), TrackedArray([-21.14119911, -22.69939995,  17.14520073]), TrackedArray([-27.70030022, -22.3477993 ,  17.20199966]), TrackedArray([-21.15060043, -21.0916996 ,  17.23360062]), TrackedArray([-27.71549988,   3.90877008,  18.32110023]), TrackedArray([-18.40299988,   5.37479019,  17.88529968]), TrackedArray([-43.4090004 ,   6.78483009,  18.07349968]), TrackedArray([-16.34129906,  29.96339989,  17.45800018]), TrackedArray([-60.86360168, -19.37560081,  18.06979942]), TrackedArray([-59.39730072, -18.09399986,  17.87660027]), TrackedArray([-59.37440109, -16.26160049,  18.06970024]), TrackedArray([-30.91930008, -15.67080021,  19.0345993 ]), TrackedArray([-30.63010025, -16.23559952,  19.2689991 ]), TrackedArray([-50.6617012 ,   3.94484997,  18.66399956]), TrackedArray([-10.59539986,  31.22559929,  19.29360008]), TrackedArray([-18.52249908, -13.44419956,  19.35280037]), TrackedArray([-25.40049934, -11.51299953,  19.62369919]), TrackedArray([-18.77160072, -14.18290043,  20.55850029]), TrackedArray([-26.97330093,  -8.91629028,  21.24749947]), TrackedArray([-16.22570038,  -8.39702988,  20.9871006 ]), TrackedArray([-61.54380035,  -5.58143997,  20.94689941]), TrackedArray([-62.1590004 ,  -5.71532011,  21.21229935]), TrackedArray([-61.75579834,  -6.20930004,  21.32789993]), TrackedArray([-31.72450066,  -6.4416399 ,  20.77750015]), TrackedArray([-58.76779938,   3.45795012,  20.66589928]), TrackedArray([-18.5121994 , -16.22739983,  21.74780083]), TrackedArray([-18.59429932, -14.50259972,  21.67060089]), TrackedArray([-16.62030029,  -9.81855965,  21.79129982]), TrackedArray([-60.27429962,  -7.92882013,  22.29179955]), TrackedArray([-16.57360077,  -8.42302036,  21.99539948]), TrackedArray([-61.40119934,  -6.80956984,  21.74300003]), TrackedArray([-30.63680077,  -4.73148012,  21.32749939]), TrackedArray([-42.41749954,   3.33879995,  22.33230019]), TrackedArray([-38.66379929,  38.58300018,  21.60969925]), TrackedArray([-33.27840042, -12.08469963,  22.69470024]), TrackedArray([-55.58959961, -11.08399963,  23.26729965]), TrackedArray([ -0.917072  , -11.26879978,  23.63599968]), TrackedArray([-55.07460022, -10.18739986,  22.98690033]), TrackedArray([-57.92950058,  -9.19760036,  22.57089996]), TrackedArray([-2.44408989, -5.7831502 , 22.95420074]), TrackedArray([-54.80310059,  -3.88700008,  23.18610001]), TrackedArray([ 0.77466702,  0.92021102, 22.74570084]), TrackedArray([-54.61989975, -11.34370041,  23.97940063]), TrackedArray([-48.39419937, -11.07929993,  23.75309944]), TrackedArray([ -0.230157  , -11.37390041,  24.75580025]), TrackedArray([-32.7745018 , -10.11940002,  23.30089951]), TrackedArray([-4.23472023, -5.42890978, 24.26199913]), TrackedArray([-12.96440029,  -4.15655994,  24.78160095]), TrackedArray([-24.66600037,  -2.08328009,  25.36720085]), TrackedArray([ 1.11010003, 31.41559982, 25.23450089]), TrackedArray([-8.99407959, 39.61769867, 24.34560013]), TrackedArray([-15.20419979,  31.22170067,  26.59690094]), TrackedArray([ 0.64943498, 27.82679939, 28.75130081]), TrackedArray([-49.57279968,  32.96569824,  28.21069908]), TrackedArray([-2.09965992, 30.92700005, 29.48959923]), TrackedArray([-10.07670021,  36.58349991,  29.85429955]), TrackedArray([-34.10480118,  37.89199829,  30.53499985]), TrackedArray([-14.65120029,  23.52750015,  32.4571991 ]), TrackedArray([-45.6352005 ,  23.67939949,  31.47450066]), TrackedArray([-15.49680042,  19.14830017,  33.73609924]), TrackedArray([-8.10715008, 33.40439987, 31.82900047]), TrackedArray([-48.3246994 ,  24.02949905,  33.91970062]), TrackedArray([-50.40499878,  24.6406002 ,  35.48500061]), TrackedArray([-3.66865993, 26.84259987, 34.55820084]), TrackedArray([-33.43930054,  27.95870018,  34.17210007]), TrackedArray([-33.6391983 ,  27.3614006 ,  34.45750046]), TrackedArray([-48.07929993,   4.38593006,  35.78290176]), TrackedArray([-37.76890182,  16.74469948,  35.16429901]), TrackedArray([-3.73169994, 22.32740021, 35.57529831]), TrackedArray([-36.27840042,  23.67959976,  35.60020065]), TrackedArray([-3.44733   , 23.65279961, 34.9095993 ]), TrackedArray([-52.72719955,  23.19350052,  36.21730042]), TrackedArray([-12.90639973,   1.76731002,  38.78720093]), TrackedArray([ 0.235543  ,  3.10285997, 37.37009811]), TrackedArray([-56.63479996,   4.21287012,  37.49739838]), TrackedArray([-43.58150101,   5.29998016,  37.68989944]), TrackedArray([-40.80770111,   6.33136988,  37.35029984]), TrackedArray([-48.68920135,  13.84980011,  38.11830139]), TrackedArray([-45.4734993 ,  13.76039982,  37.3103981 ]), TrackedArray([-34.90090179,  16.78549957,  37.71649933]), TrackedArray([-42.28490067,  18.9810009 ,  38.38140106]), TrackedArray([-3.88549995, 19.94680023, 37.85720062]), TrackedArray([-51.57260132,  21.88529968,  38.34230042]), TrackedArray([-37.35839844,  22.64669991,  37.15829849]), TrackedArray([-1.34748995, 10.6619997 , 37.99840164]), TrackedArray([-39.27289963,  11.6317997 ,  38.50910187])]\n"
     ]
    }
   ],
   "source": [
    "print(not_intersect_pos)"
   ]
  },
  {
   "cell_type": "code",
   "execution_count": 13,
   "metadata": {},
   "outputs": [],
   "source": [
    "write_lines_to_vtk(pair, f\"./temp/pair_line_{threshold}.vtk\")\n",
    "write_lines_to_vtk(too_long_pair, f\"./temp/long_line_{threshold}.vtk\")\n",
    "write_lines_to_vtk(temp_line, f\"./temp/temp_line_{threshold}.vtk\")\n",
    "write_points_to_vtk(not_intersect_pos,f\"./temp/not_intersect_point_{threshold}.vtk\",color=(255,0,0))\n"
   ]
  },
  {
   "cell_type": "code",
   "execution_count": 9,
   "metadata": {},
   "outputs": [
    {
     "data": {
      "image/png": "[encoded data removed]",
      "text/plain": [
       "<Figure size 640x480 with 1 Axes>"
      ]
     },
     "metadata": {},
     "output_type": "display_data"
    }
   ],
   "source": [
    "plot_data = [valid_thickness_num,removed_by_threshold,not_intersect_num]\n",
    "\n",
    "labels = [f\"Valid thickness \\n num : {valid_thickness_num}\",\n",
    "          f\"Removed by threshold \\n num : {removed_by_threshold}\", \n",
    "          f\"Not intersect \\n num : {not_intersect_num}\"]\n",
    "\n",
    "\n",
    "# Create a pie chart\n",
    "fig, ax = plt.subplots()\n",
    "ax.pie(plot_data, labels=labels, startangle=90, wedgeprops=dict(width=0.3), autopct='%1.1f%%')\n",
    "\n",
    "# Display\n",
    "plt.title(f\"Vertex num : {vertex_num} , threshold : {threshold}\")\n",
    "plt.show()"
   ]
  },
  {
   "cell_type": "code",
   "execution_count": 7,
   "metadata": {},
   "outputs": [
    {
     "name": "stdout",
     "output_type": "stream",
     "text": [
      "[3.18507367 4.61491413 3.35244491 ... 3.46846138 3.63713319 3.51621519]\n",
      "{'vertices': array([[-33.0875 ,   5.35956, -30.0661 ],\n",
      "       [-33.6076 ,   5.37578, -29.9285 ],\n",
      "       [-33.2168 ,   4.80791, -29.9696 ],\n",
      "       ...,\n",
      "       [ -8.10695, -26.3459 ,  80.0389 ],\n",
      "       [ -9.7135 , -25.4772 ,  79.6402 ],\n",
      "       [ -8.80204, -25.6295 ,  79.7029 ]], dtype=float32), 'faces': array([[     3,      2,      1,      0],\n",
      "       [     3,      0,      3,      2],\n",
      "       [     3,      6,      5,      4],\n",
      "       ...,\n",
      "       [     3, 142334, 142420, 142336],\n",
      "       [     3, 142336, 142420, 142421],\n",
      "       [     3, 142336, 142421, 142331]], dtype=int64), 'thickness': array([3.32757632, 3.66757862, 3.19666151, ..., 3.7112704 , 3.66817025,\n",
      "       3.49256995]), 'aparc': array([ 9.,  9.,  9., ..., 24., 24., 24.])}\n",
      "{'vertices': array([[-33.0875 ,   5.35956, -30.0661 ],\n",
      "       [-33.6076 ,   5.37578, -29.9285 ],\n",
      "       [-33.2168 ,   4.80791, -29.9696 ],\n",
      "       ...,\n",
      "       [ -8.10695, -26.3459 ,  80.0389 ],\n",
      "       [ -9.7135 , -25.4772 ,  79.6402 ],\n",
      "       [ -8.80204, -25.6295 ,  79.7029 ]], dtype=float32), 'faces': array([[     3,      2,      1,      0],\n",
      "       [     3,      0,      3,      2],\n",
      "       [     3,      6,      5,      4],\n",
      "       ...,\n",
      "       [     3, 142334, 142420, 142336],\n",
      "       [     3, 142336, 142420, 142421],\n",
      "       [     3, 142336, 142421, 142331]], dtype=int64), 'thickness': array([3.32757632, 3.66757862, 3.19666151, ..., 3.7112704 , 3.66817025,\n",
      "       3.49256995]), 'aparc': array([ 9.,  9.,  9., ..., 24., 24., 24.]), 'new_thickness': array([3.18507367, 4.61491413, 3.35244491, ..., 3.46846138, 3.63713319,\n",
      "       3.51621519])}\n",
      "6.997801855246906\n"
     ]
    }
   ],
   "source": [
    "import pyvista as pv\n",
    "\n",
    "print(thickness)\n",
    "print(white)\n",
    "\n",
    "white['new_thickness'] = thickness\n",
    "\n",
    "print(white)\n",
    "print(max(thickness))\n",
    "\n",
    "write_vtk(white,'output.vtk')\n"
   ]
  },
  {
   "cell_type": "code",
   "execution_count": null,
   "metadata": {},
   "outputs": [
    {
     "name": "stdout",
     "output_type": "stream",
     "text": [
      "[3.18507367 0.         3.35244491 ... 0.         3.63713319 0.        ]\n"
     ]
    }
   ],
   "source": [
    "from vtk_revise import read_vtk\n",
    "\n",
    "\n",
    "\n",
    "lh_white = read_vtk('./vtk_file/subj_1_lh_white.vtk')\n",
    "\n",
    "\n",
    "new_thickness = lh_white['new_thickness']\n",
    "\n",
    "print(new_thickness)\n",
    "\n",
    "# num_zero = len(np.where(thickness==0)[0])\n",
    "# num_nans = np.sum(np.isnan(thickness))\n",
    "# print(num_zero)\n",
    "# print(num_nans)"
   ]
  }
 ],
 "metadata": {
  "kernelspec": {
   "display_name": "CortexODE",
   "language": "python",
   "name": "python3"
  },
  "language_info": {
   "codemirror_mode": {
    "name": "ipython",
    "version": 3
   },
   "file_extension": ".py",
   "mimetype": "text/x-python",
   "name": "python",
   "nbconvert_exporter": "python",
   "pygments_lexer": "ipython3",
   "version": "3.9.17"
  },
  "orig_nbformat": 4
 },
 "nbformat": 4,
 "nbformat_minor": 2
}
