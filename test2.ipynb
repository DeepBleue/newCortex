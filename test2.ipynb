{
 "cells": [
  {
   "cell_type": "code",
   "execution_count": 84,
   "metadata": {},
   "outputs": [],
   "source": [
    "import numpy as np\n",
    "from tqdm.notebook import tqdm\n",
    "import trimesh\n",
    "from queue import PriorityQueue\n",
    "import matplotlib.pyplot as plt\n",
    "from make_vtk import write_lines_to_vtk\n",
    "from vtk_revise import read_vtk,write_vtk\n",
    "# import cupy as cp"
   ]
  },
  {
   "cell_type": "code",
   "execution_count": 85,
   "metadata": {},
   "outputs": [],
   "source": [
    "white = read_vtk('./AllCortexData/GS_CortexODE/SUBJ_001_MR_BL/surf/lh.CortexODE.white.vtk')\n",
    "pial = read_vtk('./AllCortexData/GS_CortexODE/SUBJ_001_MR_BL/surf/lh.CortexODE.pial.vtk')\n",
    "\n",
    "\n",
    "\n",
    "white_vertices = white['vertices']\n",
    "white_faces = white['faces'][:,1:]\n",
    "\n",
    "pial_vertices = pial['vertices']\n",
    "pial_faces = pial['faces'][:,1:]\n",
    "\n"
   ]
  },
  {
   "cell_type": "code",
   "execution_count": 86,
   "metadata": {},
   "outputs": [],
   "source": [
    "import trimesh\n",
    "import numpy as np\n",
    "\n",
    "# white 2 pial directions\n",
    "white2pial_dir = pial_vertices - white_vertices\n",
    "\n",
    "\n",
    "# Create the meshes\n",
    "origin_mesh = trimesh.Trimesh(vertices=white_vertices, faces=white_faces)\n",
    "target_mesh = trimesh.Trimesh(vertices=pial_vertices, faces=pial_faces)\n",
    "\n",
    "# Create intersectors for both meshes\n",
    "origin_intersector = trimesh.ray.ray_pyembree.RayMeshIntersector(origin_mesh)\n",
    "target_intersector = trimesh.ray.ray_pyembree.RayMeshIntersector(target_mesh)\n",
    "\n",
    "# For each vertex in the origin mesh, shoot a ray in the direction of its normal\n",
    "origins = origin_mesh.vertices\n",
    "directions = origin_mesh.vertex_normals.copy()\n",
    "\n",
    "dir_sign = (np.sum(white2pial_dir*directions,axis=1) < 0)\n",
    "directions[dir_sign] *= -1\n",
    "\n",
    " \n",
    "# Get self - intersections   # trimesh는 스스로 겹치는 것은 취급을 안한다. \n",
    "self_locations, self_index_ray, self_index_tri = origin_intersector.intersects_location(\n",
    "    origins,\n",
    "    directions, \n",
    "    multiple_hits=True)\n",
    "\n",
    "# Get intersections\n",
    "locations, index_ray, index_tri = target_intersector.intersects_location(\n",
    "    origins,\n",
    "    directions, \n",
    "    multiple_hits=True)\n",
    "\n",
    "\n",
    "# print(locations.shape)   #(530738, 3)\n",
    "# print(index_ray.shape)   #(530738,)"
   ]
  },
  {
   "cell_type": "code",
   "execution_count": 87,
   "metadata": {},
   "outputs": [
    {
     "data": {
      "application/vnd.jupyter.widget-view+json": {
       "model_id": "e64dc2c61f0b4b1d84e0fd8d200d4ca7",
       "version_major": 2,
       "version_minor": 0
      },
      "text/plain": [
       "  0%|          | 0/142422 [00:00<?, ?it/s]"
      ]
     },
     "metadata": {},
     "output_type": "display_data"
    },
    {
     "name": "stdout",
     "output_type": "stream",
     "text": [
      "142422\n",
      "6.992291291623778\n",
      "[3.18507367        nan 3.35244491 ...        nan 3.63713319        nan]\n"
     ]
    }
   ],
   "source": [
    "thickness = []\n",
    "pair = []\n",
    "\n",
    "self_intersect_idx = []\n",
    "not_intersect_idx = []\n",
    "\n",
    "too_long = []\n",
    "too_long_pair = []\n",
    "\n",
    "\n",
    "\n",
    "self_intersect_pos = self_locations                   # ( 530738 , 3 ) \n",
    "self_origin_pos = origins[self_index_ray]             # ( 530738 , 3 ) \n",
    "self_directions_vector = directions[self_index_ray]   # ( 530738 , 3 ) \n",
    "\n",
    "self_distances = np.sqrt(np.sum((self_intersect_pos - self_origin_pos)**2,axis=1)) \n",
    "\n",
    "\n",
    "intersect_pos = locations                    # ( 530738 , 3 ) \n",
    "origin_pos = origins[index_ray]              # ( 530738 , 3 ) \n",
    "directions_vector = directions[index_ray]    # ( 530738 , 3 ) \n",
    "\n",
    "threshold = 7\n",
    "\n",
    "distances = np.sqrt(np.sum((intersect_pos - origin_pos)**2,axis=1))   # ( 530738 ,  ) \n",
    "\n",
    "\n",
    "\n",
    "\n",
    "for i in tqdm(range(len(origins))):\n",
    "  \n",
    "\n",
    "  if i in index_ray :     # white에서 pial intersect 있을 때 \n",
    "    white2pial_d = white2pial_dir[i]\n",
    "    \n",
    "    idx = np.where(index_ray == i)[0]                           # 530738개 중에 i를 가지는 index \n",
    "    temp_dist = distances[idx]                                  # i로 이루어진 거리들\n",
    "    temp_direction_vetors = directions_vector[idx]              # i로 이루어진 방향들\n",
    "    real_sign = np.dot(temp_direction_vetors,white2pial_d) > 0  # 기존의 방향과 우리가 구한 방향이 같은 방향이라면 양수 아니면 음수 ( 기존 방향 : white 2 pial )\n",
    "    positive_count = np.sum(real_sign)                          # 맞는 방향으로 intersect하는 친구들의 갯수 \n",
    "    \n",
    "    \n",
    "    if positive_count == 0:                                     # 만일 맞는 방향으로 intersect하는 친구가 없다면 continue\n",
    "      thickness.append(float('nan'))\n",
    "      not_intersect_idx.append(i)\n",
    "      continue \n",
    "   \n",
    "    else :                                                      # 맞는 방향으로 통과한다면, 그중 가장 작은 친구 선택.\n",
    "      smallest_index = np.nonzero(real_sign)[0][np.argmin(temp_dist[real_sign])]\n",
    "      smallest_dist = temp_dist[smallest_index]\n",
    "      real_idx = idx[smallest_index]\n",
    "      \n",
    "\n",
    "      if i in self_index_ray:                                                    # self intersect 할때\n",
    "        \n",
    "        self_idx = np.where(self_index_ray == i)[0]\n",
    "        self_temp_dist = self_distances[self_idx]\n",
    "        temp_self_direction_vetors = self_directions_vector[self_idx]\n",
    "        self_sign_mask = np.dot(temp_self_direction_vetors,white2pial_d) > 0     # self intersect 하는 친구가 맞는 방향이라면\n",
    "        \n",
    "        self_positive_count = np.sum(self_sign_mask)     # self intersect하는 친구들 갯수\n",
    "        \n",
    "        if self_positive_count == 0 :        # 방향이 맞지 않아 self intersect하는 친구들이 없다면 thickness 저장.\n",
    "          \n",
    "          if smallest_dist > threshold: \n",
    "            thickness.append(float('nan'))\n",
    "            too_long.append(i)\n",
    "            too_long_pair.append((origin_pos[real_idx],intersect_pos[real_idx]))\n",
    "            \n",
    "          else : \n",
    "            thickness.append(smallest_dist)\n",
    "            pair.append((origin_pos[real_idx],intersect_pos[real_idx]))\n",
    "        \n",
    "        else : # self intersect하는 친구들이 있다면 \n",
    "          self_mask_index = np.nonzero(self_sign_mask)[0][np.argmin(self_temp_dist[self_sign_mask])]\n",
    "          self_smallest_dist= self_temp_dist[self_mask_index]\n",
    "          \n",
    "\n",
    "          if self_smallest_dist < smallest_dist : \n",
    "            thickness.append(float('nan'))\n",
    "            self_intersect_idx.append(i)\n",
    "\n",
    "      \n",
    "          elif smallest_dist > threshold: \n",
    "            thickness.append(float('nan'))\n",
    "            too_long.append(i)\n",
    "            too_long_pair.append((origin_pos[real_idx],intersect_pos[real_idx]))\n",
    "\n",
    "          else : \n",
    "            thickness.append(smallest_dist)\n",
    "            pair.append((origin_pos[real_idx],intersect_pos[real_idx]))\n",
    "\n",
    "      \n",
    "      else : # 애초에 self intersect 하는 친구가 없다면,\n",
    "        \n",
    "        if smallest_dist > threshold: \n",
    "          thickness.append(float('nan'))\n",
    "          too_long.append(i)\n",
    "          too_long_pair.append((origin_pos[real_idx],intersect_pos[real_idx]))\n",
    "        else : \n",
    "          thickness.append(smallest_dist)\n",
    "          pair.append((origin_pos[real_idx],intersect_pos[real_idx]))\n",
    "        \n",
    "  else : # 아무것도 intersect하지 않을 경우.\n",
    "    thickness.append(float('nan'))\n",
    "    not_intersect_idx.append(i)\n",
    "\n",
    "\n",
    "thickness = np.array(thickness)\n",
    "print(len(thickness))\n",
    "print(max(thickness))\n",
    "print(thickness)\n",
    "\n",
    "\n",
    "\n",
    "full_range = np.arange(0,len(origins)-1)\n",
    "missing_numbers = np.setdiff1d(full_range, index_ray)\n",
    "\n",
    "\n"
   ]
  },
  {
   "cell_type": "code",
   "execution_count": 88,
   "metadata": {},
   "outputs": [
    {
     "name": "stdout",
     "output_type": "stream",
     "text": [
      "threshold : 7\n",
      "vertices num : 142422\n",
      "valid thickness num : 70830\n",
      "num nan : 71592\n",
      "\n",
      "---  num nan Specify ---\n",
      "self intersect num : 69556\n",
      "removed by threshold : 1915\n",
      "not intersect num : 121\n",
      "all : 71592\n"
     ]
    }
   ],
   "source": [
    "vertex_num = len(thickness)\n",
    "num_nans = np.sum(np.isnan(thickness))\n",
    "valid_thickness_num = vertex_num - num_nans\n",
    "self_intersect_num = len(self_intersect_idx)\n",
    "removed_by_threshold = len(too_long)\n",
    "not_intersect_num = len(not_intersect_idx)\n",
    "\n",
    "\n",
    "\n",
    "print(f'threshold : {threshold}')\n",
    "print(f'vertices num : {vertex_num}')\n",
    "print(f'valid thickness num : {valid_thickness_num}')\n",
    "print(f'num nan : {num_nans}\\n')\n",
    "\n",
    "print(f'---  num nan Specify ---')\n",
    "print(f'self intersect num : {self_intersect_num}')\n",
    "print(f'removed by threshold : {removed_by_threshold}')\n",
    "print(f'not intersect num : {not_intersect_num}')\n",
    "\n",
    "print(f'all : {self_intersect_num + removed_by_threshold + not_intersect_num}')\n"
   ]
  },
  {
   "cell_type": "code",
   "execution_count": 40,
   "metadata": {},
   "outputs": [
    {
     "name": "stdout",
     "output_type": "stream",
     "text": [
      "[3.18507367        nan 3.35244491 ...        nan 3.63713319        nan]\n",
      "{'vertices': array([[-33.0875 ,   5.35956, -30.0661 ],\n",
      "       [-33.6076 ,   5.37578, -29.9285 ],\n",
      "       [-33.2168 ,   4.80791, -29.9696 ],\n",
      "       ...,\n",
      "       [ -8.10695, -26.3459 ,  80.0389 ],\n",
      "       [ -9.7135 , -25.4772 ,  79.6402 ],\n",
      "       [ -8.80204, -25.6295 ,  79.7029 ]], dtype=float32), 'faces': array([[     3,      2,      1,      0],\n",
      "       [     3,      0,      3,      2],\n",
      "       [     3,      6,      5,      4],\n",
      "       ...,\n",
      "       [     3, 142334, 142420, 142336],\n",
      "       [     3, 142336, 142420, 142421],\n",
      "       [     3, 142336, 142421, 142331]], dtype=int64), 'thickness': array([3.32757632, 3.66757862, 3.19666151, ..., 3.7112704 , 3.66817025,\n",
      "       3.49256995]), 'aparc': array([ 9.,  9.,  9., ..., 24., 24., 24.])}\n"
     ]
    }
   ],
   "source": []
  },
  {
   "cell_type": "code",
   "execution_count": 89,
   "metadata": {},
   "outputs": [],
   "source": [
    "write_lines_to_vtk(pair, f\"./vtk_file/pair_line_{threshold}.vtk\")\n",
    "write_lines_to_vtk(too_long_pair, f\"./vtk_file/long_line_{threshold}.vtk\")"
   ]
  },
  {
   "cell_type": "code",
   "execution_count": 91,
   "metadata": {},
   "outputs": [
    {
     "data": {
      "image/png": "[encoded data removed]",
      "text/plain": [
       "<Figure size 640x480 with 1 Axes>"
      ]
     },
     "metadata": {},
     "output_type": "display_data"
    }
   ],
   "source": [
    "plot_data = [valid_thickness_num,removed_by_threshold,self_intersect_num,not_intersect_num]\n",
    "\n",
    "labels = [f\"Valid thickness \\n num : {valid_thickness_num}\",\n",
    "          f\"Removed by threshold \\n num : {removed_by_threshold}\", \n",
    "          f\"Self intersect \\n num : {self_intersect_num}\",\n",
    "          f\"Not intersect \\n num : {not_intersect_num}\"]\n",
    "\n",
    "\n",
    "# Create a pie chart\n",
    "fig, ax = plt.subplots()\n",
    "ax.pie(plot_data, labels=labels, startangle=90, wedgeprops=dict(width=0.3), autopct='%1.1f%%')\n",
    "\n",
    "# Display\n",
    "plt.title(f\"Vertex num : {vertex_num} , threshold : {threshold}\")\n",
    "plt.show()"
   ]
  },
  {
   "cell_type": "code",
   "execution_count": 92,
   "metadata": {},
   "outputs": [
    {
     "name": "stdout",
     "output_type": "stream",
     "text": [
      "[3.18507367        nan 3.35244491 ...        nan 3.63713319        nan]\n",
      "{'vertices': array([[-33.0875 ,   5.35956, -30.0661 ],\n",
      "       [-33.6076 ,   5.37578, -29.9285 ],\n",
      "       [-33.2168 ,   4.80791, -29.9696 ],\n",
      "       ...,\n",
      "       [ -8.10695, -26.3459 ,  80.0389 ],\n",
      "       [ -9.7135 , -25.4772 ,  79.6402 ],\n",
      "       [ -8.80204, -25.6295 ,  79.7029 ]], dtype=float32), 'faces': array([[     3,      2,      1,      0],\n",
      "       [     3,      0,      3,      2],\n",
      "       [     3,      6,      5,      4],\n",
      "       ...,\n",
      "       [     3, 142334, 142420, 142336],\n",
      "       [     3, 142336, 142420, 142421],\n",
      "       [     3, 142336, 142421, 142331]], dtype=int64), 'thickness': array([3.32757632, 3.66757862, 3.19666151, ..., 3.7112704 , 3.66817025,\n",
      "       3.49256995]), 'aparc': array([ 9.,  9.,  9., ..., 24., 24., 24.])}\n",
      "{'vertices': array([[-33.0875 ,   5.35956, -30.0661 ],\n",
      "       [-33.6076 ,   5.37578, -29.9285 ],\n",
      "       [-33.2168 ,   4.80791, -29.9696 ],\n",
      "       ...,\n",
      "       [ -8.10695, -26.3459 ,  80.0389 ],\n",
      "       [ -9.7135 , -25.4772 ,  79.6402 ],\n",
      "       [ -8.80204, -25.6295 ,  79.7029 ]], dtype=float32), 'faces': array([[     3,      2,      1,      0],\n",
      "       [     3,      0,      3,      2],\n",
      "       [     3,      6,      5,      4],\n",
      "       ...,\n",
      "       [     3, 142334, 142420, 142336],\n",
      "       [     3, 142336, 142420, 142421],\n",
      "       [     3, 142336, 142421, 142331]], dtype=int64), 'thickness': array([3.32757632, 3.66757862, 3.19666151, ..., 3.7112704 , 3.66817025,\n",
      "       3.49256995]), 'aparc': array([ 9.,  9.,  9., ..., 24., 24., 24.]), 'new_thickness': array([3.18507367,        nan, 3.35244491, ...,        nan, 3.63713319,\n",
      "              nan])}\n",
      "6.992291291623778\n"
     ]
    }
   ],
   "source": [
    "import pyvista as pv\n",
    "\n",
    "print(thickness)\n",
    "print(white)\n",
    "\n",
    "white['new_thickness'] = thickness\n",
    "\n",
    "print(white)\n",
    "print(max(thickness))\n",
    "\n",
    "write_vtk(white,'output.vtk')\n"
   ]
  },
  {
   "cell_type": "code",
   "execution_count": 62,
   "metadata": {},
   "outputs": [
    {
     "name": "stdout",
     "output_type": "stream",
     "text": [
      "[3.18507367 0.         3.35244491 ... 0.         3.63713319 0.        ]\n"
     ]
    }
   ],
   "source": [
    "from vtk_revise import read_vtk\n",
    "\n",
    "\n",
    "\n",
    "lh_white = read_vtk('./vtk_file/subj_1_lh_white.vtk')\n",
    "\n",
    "\n",
    "new_thickness = lh_white['new_thickness']\n",
    "\n",
    "print(new_thickness)\n",
    "\n",
    "# num_zero = len(np.where(thickness==0)[0])\n",
    "# num_nans = np.sum(np.isnan(thickness))\n",
    "# print(num_zero)\n",
    "# print(num_nans)"
   ]
  },
  {
   "cell_type": "code",
   "execution_count": 1,
   "metadata": {},
   "outputs": [
    {
     "name": "stdout",
     "output_type": "stream",
     "text": [
      "0.0009890218573830483\n"
     ]
    }
   ],
   "source": [
    "a = 0.99 * 1e-6\n",
    "b = 1e-3 * (1-1e-6)\n",
    "\n",
    "c = a / (a + b)\n",
    "\n",
    "print(c)"
   ]
  }
 ],
 "metadata": {
  "kernelspec": {
   "display_name": "CortexODE",
   "language": "python",
   "name": "python3"
  },
  "language_info": {
   "codemirror_mode": {
    "name": "ipython",
    "version": 3
   },
   "file_extension": ".py",
   "mimetype": "text/x-python",
   "name": "python",
   "nbconvert_exporter": "python",
   "pygments_lexer": "ipython3",
   "version": "3.9.17"
  },
  "orig_nbformat": 4
 },
 "nbformat": 4,
 "nbformat_minor": 2
}
