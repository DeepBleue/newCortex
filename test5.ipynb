{
 "cells": [
  {
   "cell_type": "code",
   "execution_count": 1,
   "metadata": {},
   "outputs": [
    {
     "ename": "ModuleNotFoundError",
     "evalue": "No module named 'cupy'",
     "output_type": "error",
     "traceback": [
      "\u001b[1;31m---------------------------------------------------------------------------\u001b[0m",
      "\u001b[1;31mModuleNotFoundError\u001b[0m                       Traceback (most recent call last)",
      "\u001b[1;32mc:\\Users\\pari0\\OneDrive - 고려대학교\\바탕 화면\\newCortex\\test5.ipynb Cell 1\u001b[0m line \u001b[0;36m1\n\u001b[1;32m----> <a href='vscode-notebook-cell:/c%3A/Users/pari0/OneDrive%20-%20%EA%B3%A0%EB%A0%A4%EB%8C%80%ED%95%99%EA%B5%90/%EB%B0%94%ED%83%95%20%ED%99%94%EB%A9%B4/newCortex/test5.ipynb#W0sZmlsZQ%3D%3D?line=0'>1</a>\u001b[0m \u001b[39mimport\u001b[39;00m \u001b[39mcupy\u001b[39;00m \u001b[39mas\u001b[39;00m \u001b[39mcp\u001b[39;00m\n\u001b[0;32m      <a href='vscode-notebook-cell:/c%3A/Users/pari0/OneDrive%20-%20%EA%B3%A0%EB%A0%A4%EB%8C%80%ED%95%99%EA%B5%90/%EB%B0%94%ED%83%95%20%ED%99%94%EB%A9%B4/newCortex/test5.ipynb#W0sZmlsZQ%3D%3D?line=2'>3</a>\u001b[0m \u001b[39mdef\u001b[39;00m \u001b[39mrandom_vectors_on_unit_sphere\u001b[39m(num_samples):\n\u001b[0;32m      <a href='vscode-notebook-cell:/c%3A/Users/pari0/OneDrive%20-%20%EA%B3%A0%EB%A0%A4%EB%8C%80%ED%95%99%EA%B5%90/%EB%B0%94%ED%83%95%20%ED%99%94%EB%A9%B4/newCortex/test5.ipynb#W0sZmlsZQ%3D%3D?line=3'>4</a>\u001b[0m     phi \u001b[39m=\u001b[39m cp\u001b[39m.\u001b[39mrandom\u001b[39m.\u001b[39muniform(\u001b[39m0\u001b[39m, \u001b[39m2\u001b[39m \u001b[39m*\u001b[39m cp\u001b[39m.\u001b[39mpi, num_samples)\n",
      "\u001b[1;31mModuleNotFoundError\u001b[0m: No module named 'cupy'"
     ]
    }
   ],
   "source": [
    "import cupy as cp\n",
    "\n",
    "def random_vectors_on_unit_sphere(num_samples):\n",
    "    phi = cp.random.uniform(0, 2 * cp.pi, num_samples)\n",
    "    costheta = cp.random.uniform(-1, 1, num_samples)\n",
    "    \n",
    "    theta = cp.arccos(costheta)\n",
    "    x = cp.sin(theta) * cp.cos(phi)\n",
    "    y = cp.sin(theta) * cp.sin(phi)\n",
    "    z = costheta\n",
    "\n",
    "    return cp.vstack([x, y, z]).T\n",
    "\n",
    "def is_within_cone_batch(vectors, origins, angle):\n",
    "    \"\"\"\n",
    "    Check if a set of vectors are within cones defined by angles from origin vectors.\n",
    "    Returns a mask of shape (len(vectors), len(origins)).\n",
    "    \"\"\"\n",
    "    cos_angle = cp.cos(cp.radians(angle))\n",
    "    # Use broadcasting to compute the dot product between vectors and each origin\n",
    "    dot_products = cp.einsum('ik,jk->ij', vectors, origins)\n",
    "    return dot_products > cos_angle\n",
    "\n",
    "def generate_vectors_in_cone(origins, angle, num_samples):\n",
    "    num_origins = origins.shape[0]\n",
    "    estimate_samples = num_samples * 5\n",
    "    \n",
    "    vectors = random_vectors_on_unit_sphere(estimate_samples)\n",
    "    mask = is_within_cone_batch(vectors, origins, angle)\n",
    "    \n",
    "    samples_in_cones = []\n",
    "    for origin_idx in range(num_origins):\n",
    "        origin_mask = mask[:, origin_idx]\n",
    "        samples_for_origin = vectors[origin_mask][:num_samples]\n",
    "        \n",
    "        # If not enough samples, recursively call to gather more\n",
    "        while samples_for_origin.shape[0] < num_samples:\n",
    "            additional_samples = generate_vectors_in_cone(cp.array([origins[origin_idx]]), angle, num_samples - samples_for_origin.shape[0])\n",
    "            samples_for_origin = cp.vstack([samples_for_origin, additional_samples[:num_samples - samples_for_origin.shape[0]]])\n",
    "        \n",
    "        samples_in_cones.append(samples_for_origin)\n",
    "\n",
    "    return samples_in_cones\n",
    "\n",
    "# Usage:\n",
    "origins = cp.array([[0, 0, 1], [0, 1, 0]])  # 2 origin vectors as an example\n",
    "samples = generate_vectors_in_cone(origins, 30, 1000)  # Generate 1000 samples for each origin vector\n"
   ]
  },
  {
   "cell_type": "code",
   "execution_count": 2,
   "metadata": {},
   "outputs": [],
   "source": [
    "import numpy as np\n",
    "\n",
    "def random_vectors_on_unit_sphere(num_samples):\n",
    "    phi = np.random.uniform(0, 2 * np.pi, num_samples)\n",
    "    costheta = np.random.uniform(-1, 1, num_samples)\n",
    "    \n",
    "    theta = np.arccos(costheta)\n",
    "    x = np.sin(theta) * np.cos(phi)\n",
    "    y = np.sin(theta) * np.sin(phi)\n",
    "    z = costheta\n",
    "\n",
    "    return np.vstack([x, y, z]).T\n",
    "\n",
    "def is_within_cone_batch(vectors, origins, angle):\n",
    "    \"\"\"\n",
    "    Check if a set of vectors are within cones defined by angles from origin vectors.\n",
    "    Returns a mask of shape (len(vectors), len(origins)).\n",
    "    \"\"\"\n",
    "    cos_angle = np.cos(np.radians(angle))\n",
    "    # Use broadcasting to compute the dot product between vectors and each origin\n",
    "    dot_products = np.einsum('ik,jk->ij', vectors, origins)\n",
    "    return dot_products > cos_angle\n",
    "\n",
    "def generate_vectors_in_cone(origins, angle, num_samples):\n",
    "    num_origins = origins.shape[0]\n",
    "    estimate_samples = num_samples * 5\n",
    "    \n",
    "    vectors = random_vectors_on_unit_sphere(estimate_samples)\n",
    "    mask = is_within_cone_batch(vectors, origins, angle)\n",
    "    \n",
    "    samples_in_cones = []\n",
    "    for origin_idx in range(num_origins):\n",
    "        origin_mask = mask[:, origin_idx]\n",
    "        samples_for_origin = vectors[origin_mask][:num_samples]\n",
    "        \n",
    "        # If not enough samples, recursively call to gather more\n",
    "        while samples_for_origin.shape[0] < num_samples:\n",
    "            additional_samples = generate_vectors_in_cone(np.array([origins[origin_idx]]), angle, num_samples - samples_for_origin.shape[0])\n",
    "            samples_for_origin = np.vstack([samples_for_origin, additional_samples[0][:num_samples - samples_for_origin.shape[0]]])\n",
    "        \n",
    "        samples_in_cones.append(samples_for_origin)\n",
    "\n",
    "    return samples_in_cones\n",
    "\n",
    "# Usage:\n",
    "origins = np.array([[0, 0, 1], [0, 1, 0]])  # 2 origin vectors as an example\n",
    "samples = generate_vectors_in_cone(origins, 30, 1000)  # Generate 1000 samples for each origin vector\n"
   ]
  },
  {
   "cell_type": "code",
   "execution_count": 7,
   "metadata": {},
   "outputs": [
    {
     "name": "stdout",
     "output_type": "stream",
     "text": [
      "[[-0.43685201 -0.12363513  0.89099645]\n",
      " [-0.14018235 -0.38109922  0.91384479]\n",
      " [ 0.03726318 -0.0956744   0.99471497]\n",
      " ...\n",
      " [ 0.34056799 -0.15628012  0.92714075]\n",
      " [-0.25490187  0.395909    0.88220241]\n",
      " [-0.29603741 -0.19809584  0.93440884]]\n",
      "[[-0.08304653  0.88481279 -0.45848621]\n",
      " [ 0.35281244  0.88300504  0.30955691]\n",
      " [ 0.19372016  0.93477213 -0.29778105]\n",
      " ...\n",
      " [-0.11795208  0.94422339  0.30745648]\n",
      " [ 0.17244257  0.93424443 -0.31217128]\n",
      " [-0.00921484  0.99239606 -0.12274019]]\n"
     ]
    }
   ],
   "source": [
    "print(samples[0])\n",
    "print(samples[1])"
   ]
  }
 ],
 "metadata": {
  "kernelspec": {
   "display_name": "CortexODE",
   "language": "python",
   "name": "python3"
  },
  "language_info": {
   "codemirror_mode": {
    "name": "ipython",
    "version": 3
   },
   "file_extension": ".py",
   "mimetype": "text/x-python",
   "name": "python",
   "nbconvert_exporter": "python",
   "pygments_lexer": "ipython3",
   "version": "3.9.17"
  },
  "orig_nbformat": 4
 },
 "nbformat": 4,
 "nbformat_minor": 2
}
