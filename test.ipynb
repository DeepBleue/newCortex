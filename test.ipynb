{
 "cells": [
  {
   "cell_type": "code",
   "execution_count": 29,
   "metadata": {},
   "outputs": [],
   "source": [
    "import numpy as np\n",
    "from tqdm.notebook import tqdm\n",
    "import trimesh\n",
    "from queue import PriorityQueue\n",
    "import matplotlib.pyplot as plt\n",
    "from make_vtk import write_lines_to_vtk\n",
    "# import cupy as cp"
   ]
  },
  {
   "cell_type": "code",
   "execution_count": 30,
   "metadata": {},
   "outputs": [
    {
     "name": "stdout",
     "output_type": "stream",
     "text": [
      "(142422, 3)\n",
      "(284840, 3)\n",
      "(142422, 3)\n",
      "(142422, 3)\n",
      "(284840, 3)\n"
     ]
    }
   ],
   "source": [
    "lh_white_vertices = np.load('./data/lh_white_vertices.npy')\n",
    "lh_white_faces = np.load('./data/lh_white_faces.npy')\n",
    "lh_white_vertex_normals = np.load('./data/lh_white_vertex_normals.npy')\n",
    "lh_pial_vertices = np.load('./data/lh_pial_vertices.npy')\n",
    "lh_pial_faces = np.load('./data/lh_pial_faces.npy')\n",
    "\n",
    "\n",
    "print(lh_white_vertices.shape)\n",
    "print(lh_white_faces.shape)\n",
    "print(lh_white_vertex_normals.shape)\n",
    "print(lh_pial_vertices.shape)\n",
    "print(lh_pial_faces.shape)"
   ]
  },
  {
   "cell_type": "code",
   "execution_count": 67,
   "metadata": {},
   "outputs": [
    {
     "name": "stdout",
     "output_type": "stream",
     "text": [
      "(530738, 3)\n",
      "(530738,)\n"
     ]
    },
    {
     "data": {
      "application/vnd.jupyter.widget-view+json": {
       "model_id": "2883941363fa40ada785c914a53b86a9",
       "version_major": 2,
       "version_minor": 0
      },
      "text/plain": [
       "  0%|          | 0/142422 [00:00<?, ?it/s]"
      ]
     },
     "metadata": {},
     "output_type": "display_data"
    },
    {
     "ename": "IndexError",
     "evalue": "index 1 is out of bounds for axis 0 with size 1",
     "output_type": "error",
     "traceback": [
      "\u001b[1;31m---------------------------------------------------------------------------\u001b[0m",
      "\u001b[1;31mIndexError\u001b[0m                                Traceback (most recent call last)",
      "Cell \u001b[1;32mIn[67], line 135\u001b[0m\n\u001b[0;32m    132\u001b[0m   smallest_dist \u001b[39m=\u001b[39m np\u001b[39m.\u001b[39mnan\n\u001b[0;32m    134\u001b[0m \u001b[39mif\u001b[39;00m smallest_dist \u001b[39m!=\u001b[39m np\u001b[39m.\u001b[39mnan : \n\u001b[1;32m--> 135\u001b[0m   real_idx \u001b[39m=\u001b[39m idx[smallest_index]\n\u001b[0;32m    138\u001b[0m \u001b[39mif\u001b[39;00m (self_smallest_dist \u001b[39m==\u001b[39m \u001b[39mfloat\u001b[39m(\u001b[39m'\u001b[39m\u001b[39minf\u001b[39m\u001b[39m'\u001b[39m)) \u001b[39mand\u001b[39;00m (np\u001b[39m.\u001b[39misnan(smallest_dist)):\n\u001b[0;32m    139\u001b[0m   thickness\u001b[39m.\u001b[39mappend(np\u001b[39m.\u001b[39mnan)\n",
      "\u001b[1;31mIndexError\u001b[0m: index 1 is out of bounds for axis 0 with size 1"
     ]
    }
   ],
   "source": [
    "import trimesh\n",
    "import numpy as np\n",
    "\n",
    "# white 2 pial directions\n",
    "white2pial_dir = lh_pial_vertices - lh_white_vertices\n",
    "\n",
    "# Load the origin and target meshes\n",
    "origin_mesh = trimesh.Trimesh(vertices=lh_white_vertices, faces=lh_white_faces)\n",
    "target_mesh = trimesh.Trimesh(vertices=lh_pial_vertices, faces=lh_pial_faces)\n",
    "\n",
    "# Create the meshes\n",
    "origin_mesh = trimesh.Trimesh(vertices=lh_white_vertices, faces=lh_white_faces)\n",
    "target_mesh = trimesh.Trimesh(vertices=lh_pial_vertices, faces=lh_pial_faces)\n",
    "\n",
    "# Create intersectors for both meshes\n",
    "origin_intersector = trimesh.ray.ray_pyembree.RayMeshIntersector(origin_mesh)\n",
    "target_intersector = trimesh.ray.ray_pyembree.RayMeshIntersector(target_mesh)\n",
    "\n",
    "# For each vertex in the origin mesh, shoot a ray in the direction of its normal\n",
    "origins = origin_mesh.vertices\n",
    "directions = origin_mesh.vertex_normals\n",
    "\n",
    "# Get self - intersections   # trimesh는 스스로 겹치는 것은 취급을 안한다. \n",
    "self_locations, self_index_ray, self_index_tri = origin_intersector.intersects_location(\n",
    "    origins,\n",
    "    directions, \n",
    "    multiple_hits=True)\n",
    "\n",
    "# Get intersections\n",
    "locations, index_ray, index_tri = target_intersector.intersects_location(\n",
    "    origins,\n",
    "    directions, \n",
    "    multiple_hits=True)\n",
    "\n",
    "print(locations.shape)\n",
    "print(index_ray.shape)\n",
    "\n",
    "thickness = []\n",
    "self_intersect_idx = []\n",
    "not_intersect_idx = []\n",
    "\n",
    "self_intersect_pos = self_locations\n",
    "self_origin_pos = origins[self_index_ray]\n",
    "self_directions_vector = directions[self_index_ray]\n",
    "\n",
    "self_distances = np.sqrt(np.sum((self_intersect_pos - self_origin_pos)**2,axis=1)) \n",
    "\n",
    "\n",
    "intersect_pos = locations                    # ( 530738 , 3 ) \n",
    "origin_pos = origins[index_ray]              # ( 530738 , 3 ) \n",
    "directions_vector = directions[index_ray]    # ( 530738 , 3 ) \n",
    "\n",
    "threshold = 7\n",
    "\n",
    "distances = np.sqrt(np.sum((intersect_pos - origin_pos)**2,axis=1))   # ( 530738 ,  ) \n",
    "\n",
    "pair = []\n",
    "too_long = []\n",
    "too_long_pair = []\n",
    "\n",
    "\n",
    "\n",
    "for i in tqdm(range(len(origins))):\n",
    "\n",
    "  if i in index_ray :     # white에서 pial intersect 있을 때 \n",
    "\n",
    "    if i in self_index_ray:     # self intersect 할때\n",
    "            \n",
    "      \n",
    "      white2pial_d = white2pial_dir[i]\n",
    "      \n",
    "      self_idx = np.where(self_index_ray == i)[0]\n",
    "      self_temp_dist = self_distances[self_idx]\n",
    "      temp_self_direction_vetors = self_directions_vector[self_idx]\n",
    "      self_sign_mask = np.dot(temp_self_direction_vetors,white2pial_d) > 0 \n",
    "      try : \n",
    "        self_mask_index = np.nonzero(self_sign_mask)[0][np.argmin(self_temp_dist[self_sign_mask])]\n",
    "        self_smallest_dist= self_temp_dist[self_mask_index]\n",
    "        \n",
    "      except : \n",
    "        self_smallest_dist = float('inf')\n",
    "      \n",
    "\n",
    "      idx = np.where(index_ray == i)[0]\n",
    "      temp_dist = distances[idx]\n",
    "      # smallest_dist= np.min(temp_dist)\n",
    "      # smallest_dist_idx = np.argmin(temp_dist)\n",
    "      # real_idx = idx[smallest_dist_idx]\n",
    "      \n",
    "      temp_direction_vetors = directions_vector[idx]\n",
    "      real_sign = np.dot(temp_direction_vetors,white2pial_d) > 0 \n",
    "      \n",
    "      try : \n",
    "        smallest_index = np.nonzero(real_sign)[0][np.argmin(temp_dist[real_sign])]\n",
    "        smallest_dist = temp_dist[smallest_index]\n",
    "      except : \n",
    "        smallest_dist = np.nan\n",
    "        \n",
    "      if smallest_dist != np.nan : \n",
    "        real_idx = idx[smallest_index]\n",
    "        \n",
    "        \n",
    "      if (self_smallest_dist == float('inf')) and (np.isnan(smallest_dist)):\n",
    "        thickness.append(np.nan)\n",
    "        not_intersect_idx.append(i)\n",
    "        \n",
    "\n",
    "      elif self_smallest_dist < smallest_dist : \n",
    "        thickness.append(np.nan)\n",
    "        self_intersect_idx.append(i)\n",
    "\n",
    "      \n",
    "      elif smallest_dist > threshold: \n",
    "        thickness.append(np.nan)\n",
    "        too_long.append(i)\n",
    "        too_long_pair.append((origin_pos[real_idx],intersect_pos[real_idx]))\n",
    "\n",
    "      else : \n",
    "        thickness.append(smallest_dist)\n",
    "        pair.append((origin_pos[real_idx],intersect_pos[real_idx]))\n",
    "\n",
    "    else : \n",
    "      idx = np.where(index_ray == i)[0]\n",
    "      temp_dist = distances[idx]\n",
    "      temp_direction_vetors = directions_vector[idx]\n",
    "      real_sign = np.dot(temp_direction_vetors,white2pial_d) > 0 \n",
    "      \n",
    "      try : \n",
    "        smallest_index = np.nonzero(real_sign)[0][np.argmin(temp_dist[real_sign])]\n",
    "        smallest_dist = temp_dist[smallest_index]\n",
    "      except : \n",
    "        smallest_dist = np.nan\n",
    "        \n",
    "      if smallest_dist != np.nan : \n",
    "        real_idx = idx[smallest_index]\n",
    "        \n",
    "      \n",
    "      if (self_smallest_dist == float('inf')) and (np.isnan(smallest_dist)):\n",
    "        thickness.append(np.nan)\n",
    "        not_intersect_idx.append(i)\n",
    "\n",
    "      elif smallest_dist > threshold: \n",
    "        thickness.append(np.nan)\n",
    "        too_long.append(i)\n",
    "        too_long_pair.append((origin_pos[real_idx],intersect_pos[real_idx]))\n",
    "\n",
    "      else : \n",
    "        thickness.append(smallest_dist)\n",
    "        pair.append((origin_pos[real_idx],intersect_pos[real_idx]))\n",
    "\n",
    "  else : \n",
    "    thickness.append(np.nan)\n",
    "    not_intersect_idx.append(i)\n",
    "\n",
    "thickness = np.array(thickness)\n",
    "print(len(thickness))\n",
    "print(max(thickness))\n",
    "print(thickness)\n",
    "\n",
    "\n",
    "\n",
    "full_range = np.arange(0,len(origins)-1)\n",
    "missing_numbers = np.setdiff1d(full_range, index_ray)\n",
    "\n",
    "\n"
   ]
  },
  {
   "cell_type": "code",
   "execution_count": 48,
   "metadata": {},
   "outputs": [
    {
     "name": "stdout",
     "output_type": "stream",
     "text": [
      "threshold : 7\n",
      "vertices num : 142422\n",
      "valid thickness num : 70399\n",
      "num nan : 72023\n",
      "\n",
      "---  num nan Specify ---\n",
      "self intersect num : 69750\n",
      "removed by threshold : 1924\n",
      "not intersect num : 349\n"
     ]
    }
   ],
   "source": [
    "vertex_num = len(thickness)\n",
    "num_nans = np.sum(np.isnan(thickness))\n",
    "valid_thickness_num = vertex_num - num_nans\n",
    "self_intersect_num = len(self_intersect_idx)\n",
    "removed_by_threshold = len(too_long)\n",
    "not_intersect_num = len(not_intersect_idx)\n",
    "\n",
    "\n",
    "\n",
    "print(f'threshold : {threshold}')\n",
    "print(f'vertices num : {vertex_num}')\n",
    "print(f'valid thickness num : {valid_thickness_num}')\n",
    "print(f'num nan : {num_nans}\\n')\n",
    "\n",
    "print(f'---  num nan Specify ---')\n",
    "print(f'self intersect num : {self_intersect_num}')\n",
    "print(f'removed by threshold : {removed_by_threshold}')\n",
    "print(f'not intersect num : {not_intersect_num}')\n",
    "\n",
    "# print(f'all : {self_intersect_num + removed_by_threshold + not_intersect_num}')\n"
   ]
  },
  {
   "cell_type": "code",
   "execution_count": 49,
   "metadata": {},
   "outputs": [],
   "source": [
    "write_lines_to_vtk(pair, f\"./vtk_file/pair_line_{threshold}.vtk\")\n",
    "write_lines_to_vtk(too_long_pair, f\"./vtk_file/long_line_{threshold}.vtk\")"
   ]
  },
  {
   "cell_type": "code",
   "execution_count": 50,
   "metadata": {},
   "outputs": [
    {
     "data": {
      "image/png": "[encoded data removed]",
      "text/plain": [
       "<Figure size 640x480 with 1 Axes>"
      ]
     },
     "metadata": {},
     "output_type": "display_data"
    }
   ],
   "source": [
    "plot_data = [valid_thickness_num,removed_by_threshold,self_intersect_num,not_intersect_num]\n",
    "\n",
    "labels = [f\"Valid thickness \\n num : {valid_thickness_num}\",\n",
    "          f\"Removed by threshold \\n num : {removed_by_threshold}\", \n",
    "          f\"Self intersect \\n num : {self_intersect_num}\",\n",
    "          f\"Not intersect \\n num : {not_intersect_num}\"]\n",
    "\n",
    "\n",
    "# Create a pie chart\n",
    "fig, ax = plt.subplots()\n",
    "ax.pie(plot_data, labels=labels, startangle=90, wedgeprops=dict(width=0.3), autopct='%1.1f%%')\n",
    "\n",
    "# Display\n",
    "plt.title(f\"Vertex num : {vertex_num} , threshold : {threshold}\")\n",
    "plt.show()"
   ]
  },
  {
   "cell_type": "code",
   "execution_count": 16,
   "metadata": {},
   "outputs": [
    {
     "name": "stdout",
     "output_type": "stream",
     "text": [
      "[3.18507367 0.         3.35244491 ... 0.         3.63713319 0.        ]\n",
      "72323\n",
      "0\n"
     ]
    }
   ],
   "source": [
    "from vtk_revise import read_vtk\n",
    "\n",
    "\n",
    "\n",
    "lh_white = read_vtk('./vtk_file/subj_1_lh_white.vtk')\n",
    "\n",
    "\n",
    "new_thickness = lh_white['new_thickness']\n",
    "\n",
    "print(new_thickness)\n",
    "\n",
    "num_zero = len(np.where(new_thickness==0)[0])\n",
    "num_nans = np.sum(np.isnan(new_thickness))\n",
    "print(num_zero)\n",
    "print(num_nans)\n"
   ]
  },
  {
   "cell_type": "code",
   "execution_count": 62,
   "metadata": {},
   "outputs": [
    {
     "name": "stdout",
     "output_type": "stream",
     "text": [
      "5\n",
      "[5 3 2]\n"
     ]
    }
   ],
   "source": [
    "import numpy as np\n",
    "\n",
    "# Example array\n",
    "arr = np.array([0, 5, -1, 3, -7, 2, -8, -15])\n",
    "\n",
    "# Create a boolean mask for positive values\n",
    "mask = arr > 0\n",
    "\n",
    "# Get the index of the minimum positive value\n",
    "index = np.nonzero(mask)[0][np.argmin(arr[mask])]\n",
    "\n",
    "print(index)\n",
    "print(arr[mask])\n"
   ]
  }
 ],
 "metadata": {
  "kernelspec": {
   "display_name": "CortexODE",
   "language": "python",
   "name": "python3"
  },
  "language_info": {
   "codemirror_mode": {
    "name": "ipython",
    "version": 3
   },
   "file_extension": ".py",
   "mimetype": "text/x-python",
   "name": "python",
   "nbconvert_exporter": "python",
   "pygments_lexer": "ipython3",
   "version": "3.9.17"
  },
  "orig_nbformat": 4
 },
 "nbformat": 4,
 "nbformat_minor": 2
}
